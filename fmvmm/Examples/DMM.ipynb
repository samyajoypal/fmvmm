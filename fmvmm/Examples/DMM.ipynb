{
 "cells": [
  {
   "cell_type": "markdown",
   "id": "2b229fd9",
   "metadata": {},
   "source": [
    "# Example: Dirichlet Mixture Model"
   ]
  },
  {
   "cell_type": "code",
   "execution_count": 1,
   "id": "79c71e61",
   "metadata": {},
   "outputs": [],
   "source": [
    "import os\n",
    "os.chdir(\"../..\")"
   ]
  },
  {
   "cell_type": "code",
   "execution_count": 2,
   "id": "2af2c94e",
   "metadata": {},
   "outputs": [],
   "source": [
    "# import necessary modules\n",
    "\n",
    "from fmvmm.mixtures.DMM_Soft import DMM_Soft\n",
    "from fmvmm.mixtures.DMM_Hard import DMM_Hard\n",
    "from fmvmm.utils.utils_mixture import sample_mixture_distribution\n",
    "from fmvmm.distributions import dirichlet\n",
    "import numpy as np\n",
    "from fmvmm.utils.utils_dmm import wald_confidence_intervals_dmm"
   ]
  },
  {
   "cell_type": "code",
   "execution_count": 3,
   "id": "78c5994c",
   "metadata": {},
   "outputs": [],
   "source": [
    "# Let us first generate some data from a dirichlet mixture model\n",
    "np.random.seed(5)\n",
    "pis = [0.3,0.5,0.2]\n",
    "a1 =[5,5,5]\n",
    "a2 = [7,15,225]\n",
    "a3 = [50,10,4]\n",
    "alphas = [[a1],[a2],[a3]]\n",
    "\n",
    "data, label = sample_mixture_distribution(1000, dirichlet.rvs, pis,alphas)"
   ]
  },
  {
   "cell_type": "code",
   "execution_count": 10,
   "id": "04ac4188",
   "metadata": {},
   "outputs": [
    {
     "name": "stdout",
     "output_type": "stream",
     "text": [
      "Soft DMM Fitting Done Successfully\n"
     ]
    }
   ],
   "source": [
    "# First Let us fit Soft DMM to the Data\n",
    "\n",
    "model1 = DMM_Soft(n_clusters= 3)\n",
    "model1.fit(data)"
   ]
  },
  {
   "cell_type": "code",
   "execution_count": 11,
   "id": "8c8ba766",
   "metadata": {},
   "outputs": [
    {
     "name": "stdout",
     "output_type": "stream",
     "text": [
      "pi vaues:  [0.19865103 0.49999099 0.30135797]\n",
      "alpha vaues:  [[46.48586852657687, 9.326472163419565, 3.5831104772858464], [7.174275983298732, 15.24567720274679, 227.31921065696392], [5.063675843350417, 4.985150567409754, 5.021060358640115]]\n"
     ]
    }
   ],
   "source": [
    "# To get the MLE of the parameters:\n",
    "\n",
    "pi_soft, alpha_soft = model1.get_params()\n",
    "\n",
    "print(\"pi vaues: \", pi_soft)\n",
    "print(\"alpha vaues: \", alpha_soft)"
   ]
  },
  {
   "cell_type": "code",
   "execution_count": 12,
   "id": "877162bd",
   "metadata": {},
   "outputs": [
    {
     "name": "stdout",
     "output_type": "stream",
     "text": [
      "standard errors:  [ 0.0141898   0.02236069  0.01742507  3.62160822  0.7100066   0.26542584\n",
      "  0.32325353  0.68776851 10.26276965  0.30369949  0.30603333  0.31169018]\n"
     ]
    }
   ],
   "source": [
    "# To get the standard errors:\n",
    "\n",
    "im, se = model1.get_info_mat(method=\"louis\")\n",
    "\n",
    "print(\"standard errors: \", se)"
   ]
  },
  {
   "cell_type": "code",
   "execution_count": 13,
   "id": "2bc7a0dd-6f74-404c-9b14-f3522ad6742b",
   "metadata": {},
   "outputs": [
    {
     "name": "stdout",
     "output_type": "stream",
     "text": [
      "Param 1: (0.1714, 0.2290)\n",
      "Param 2: (0.4642, 0.5357)\n",
      "Param 3: (0.2691, 0.3375)\n",
      "Param 4: (39.9030, 54.1547)\n",
      "Param 5: (8.0337, 10.8272)\n",
      "Param 6: (3.0989, 4.1430)\n",
      "Param 7: (6.5679, 7.8367)\n",
      "Param 8: (13.9556, 16.6551)\n",
      "Param 9: (208.0688, 248.3506)\n",
      "Param 10: (4.5021, 5.6953)\n",
      "Param 11: (4.4200, 5.6225)\n",
      "Param 12: (4.4459, 5.6707)\n"
     ]
    }
   ],
   "source": [
    "# Confidence Intervals\n",
    "ci = wald_confidence_intervals_dmm(model1.get_params(),im, alpha=0.05)\n",
    "for i, (lo, hi) in enumerate(ci):\n",
    "    print(f\"Param {i+1}: ({lo:.4f}, {hi:.4f})\")"
   ]
  },
  {
   "cell_type": "code",
   "execution_count": 14,
   "id": "3000b5c3-fc19-4470-9adc-d09fa4daf30f",
   "metadata": {},
   "outputs": [
    {
     "name": "stdout",
     "output_type": "stream",
     "text": [
      "standard errors:  [ 0.01422412  0.02236069  0.0174485   3.70923347  0.73825561  0.26801094\n",
      "  0.35474044  0.72245549 11.08354264  0.30881938  0.30520742  0.2972184 ]\n"
     ]
    }
   ],
   "source": [
    "# To get the standard errors:\n",
    "\n",
    "im, se = model1.get_info_mat(method=\"score\")\n",
    "\n",
    "print(\"standard errors: \", se)"
   ]
  },
  {
   "cell_type": "code",
   "execution_count": 15,
   "id": "32c95cf1-32a4-4b90-93e9-5ef58f2e25c6",
   "metadata": {},
   "outputs": [
    {
     "name": "stdout",
     "output_type": "stream",
     "text": [
      "Param 1: (0.1713, 0.2292)\n",
      "Param 2: (0.4642, 0.5358)\n",
      "Param 3: (0.2690, 0.3376)\n",
      "Param 4: (39.7559, 54.3551)\n",
      "Param 5: (7.9862, 10.8917)\n",
      "Param 6: (3.0945, 4.1489)\n",
      "Param 7: (6.5116, 7.9044)\n",
      "Param 8: (13.8935, 16.7295)\n",
      "Param 9: (206.6016, 250.1144)\n",
      "Param 10: (4.4932, 5.7066)\n",
      "Param 11: (4.4215, 5.6207)\n",
      "Param 12: (4.4710, 5.6387)\n"
     ]
    }
   ],
   "source": [
    "# Confidence Intervals\n",
    "ci = wald_confidence_intervals_dmm(model1.get_params(),im, alpha=0.05)\n",
    "for i, (lo, hi) in enumerate(ci):\n",
    "    print(f\"Param {i+1}: ({lo:.4f}, {hi:.4f})\")"
   ]
  },
  {
   "cell_type": "code",
   "execution_count": 16,
   "id": "612b14cc",
   "metadata": {},
   "outputs": [
    {
     "data": {
      "text/plain": [
       "{'accuracy': 0.998, 'precision': 0.998, 'recall': 0.998, 'f_score': 0.998}"
      ]
     },
     "execution_count": 16,
     "metadata": {},
     "output_type": "execute_result"
    }
   ],
   "source": [
    "# To check classification performance keeping in mind label switching:\n",
    "\n",
    "from fmvmm.utils.utils_mixture import clustering_metrics\n",
    "\n",
    "clustering_metrics(label,model1.predict())"
   ]
  },
  {
   "cell_type": "code",
   "execution_count": 17,
   "id": "d599b2ee",
   "metadata": {},
   "outputs": [
    {
     "name": "stdout",
     "output_type": "stream",
     "text": [
      "AIC -6414.132866285573\n",
      "BIC -6360.1475582167695\n",
      "ICL -6369.228712990898\n"
     ]
    }
   ],
   "source": [
    "# To get AIC, BIC, ICL\n",
    "\n",
    "print(\"AIC\", model1.aic())\n",
    "print(\"BIC\", model1.bic())\n",
    "print(\"ICL\", model1.icl())"
   ]
  },
  {
   "cell_type": "code",
   "execution_count": 18,
   "id": "23a3fde6",
   "metadata": {},
   "outputs": [
    {
     "name": "stdout",
     "output_type": "stream",
     "text": [
      "Hard DMM Fitting Done Successfully\n"
     ]
    }
   ],
   "source": [
    "# We can similarly fit Hard DMM\n",
    "\n",
    "model2 = DMM_Hard(n_clusters= 3)\n",
    "model2.fit(data)"
   ]
  },
  {
   "cell_type": "code",
   "execution_count": 19,
   "id": "7cc7296a",
   "metadata": {},
   "outputs": [
    {
     "name": "stdout",
     "output_type": "stream",
     "text": [
      "pi vaues:  [0.2 0.5 0.3]\n",
      "alpha vaues:  [array([46.16704257,  9.29445097,  3.57438085]), array([  7.17364518,  15.24409011, 227.29315746]), array([5.13307   , 5.07683489, 5.13265107])]\n"
     ]
    }
   ],
   "source": [
    "# To get the MLE of the parameters:\n",
    "\n",
    "pi_soft, alpha_soft = model2.get_params()\n",
    "\n",
    "print(\"pi vaues: \", pi_soft)\n",
    "print(\"alpha vaues: \", alpha_soft)"
   ]
  },
  {
   "cell_type": "code",
   "execution_count": 20,
   "id": "ac8060c3",
   "metadata": {},
   "outputs": [
    {
     "name": "stdout",
     "output_type": "stream",
     "text": [
      "standard errors:  [ 0.01422577  0.02236087  0.0173891   3.58281425  0.70486838  0.2638148\n",
      "  0.32321474  0.68766865 10.26110342  0.30847479  0.31205762  0.31892394]\n"
     ]
    }
   ],
   "source": [
    "# To get the standard errors:\n",
    "\n",
    "im, se = model2.get_info_mat(method=\"louis\")\n",
    "\n",
    "print(\"standard errors: \", se)"
   ]
  },
  {
   "cell_type": "code",
   "execution_count": 21,
   "id": "8e1fef56-0286-4de3-8cfc-ab0c6d3bee4f",
   "metadata": {},
   "outputs": [
    {
     "name": "stdout",
     "output_type": "stream",
     "text": [
      "Param 1: (0.1726, 0.2305)\n",
      "Param 2: (0.4642, 0.5358)\n",
      "Param 3: (0.2678, 0.3361)\n",
      "Param 4: (39.6528, 53.7514)\n",
      "Param 5: (8.0107, 10.7839)\n",
      "Param 6: (3.0930, 4.1307)\n",
      "Param 7: (6.5673, 7.8359)\n",
      "Param 8: (13.9541, 16.6533)\n",
      "Param 9: (208.0458, 248.3211)\n",
      "Param 10: (4.5627, 5.7747)\n",
      "Param 11: (4.5006, 5.7268)\n",
      "Param 12: (4.5441, 5.7974)\n"
     ]
    }
   ],
   "source": [
    "# Confidence Intervals\n",
    "ci = wald_confidence_intervals_dmm(model2.get_params(),im, alpha=0.05)\n",
    "for i, (lo, hi) in enumerate(ci):\n",
    "    print(f\"Param {i+1}: ({lo:.4f}, {hi:.4f})\")"
   ]
  },
  {
   "cell_type": "code",
   "execution_count": 22,
   "id": "8fd111c2-16e3-4008-8862-a9000e98c918",
   "metadata": {},
   "outputs": [
    {
     "name": "stdout",
     "output_type": "stream",
     "text": [
      "standard errors:  [ 0.01414214  0.02236068  0.01732051  3.42785225  0.70191528  0.25899917\n",
      "  0.3545411   0.72193125 11.07409056  0.30833331  0.30256038  0.29484352]\n"
     ]
    }
   ],
   "source": [
    "# To get the standard errors:\n",
    "\n",
    "im, se = model2.get_info_mat(method=\"score\")\n",
    "\n",
    "print(\"standard errors: \", se)"
   ]
  },
  {
   "cell_type": "code",
   "execution_count": 23,
   "id": "e55cb997-0945-4fd0-ad4a-10ace4535a4b",
   "metadata": {},
   "outputs": [
    {
     "name": "stdout",
     "output_type": "stream",
     "text": [
      "Param 1: (0.1729, 0.2302)\n",
      "Param 2: (0.4643, 0.5357)\n",
      "Param 3: (0.2679, 0.3359)\n",
      "Param 4: (39.9146, 53.3990)\n",
      "Param 5: (8.0157, 10.7772)\n",
      "Param 6: (3.1012, 4.1198)\n",
      "Param 7: (6.5114, 7.9033)\n",
      "Param 8: (13.8928, 16.7268)\n",
      "Param 9: (206.5924, 250.0681)\n",
      "Param 10: (4.5630, 5.7744)\n",
      "Param 11: (4.5172, 5.7059)\n",
      "Param 12: (4.5861, 5.7443)\n"
     ]
    }
   ],
   "source": [
    "# Confidence Intervals\n",
    "ci = wald_confidence_intervals_dmm(model2.get_params(),im, alpha=0.05)\n",
    "for i, (lo, hi) in enumerate(ci):\n",
    "    print(f\"Param {i+1}: ({lo:.4f}, {hi:.4f})\")"
   ]
  },
  {
   "cell_type": "code",
   "execution_count": 24,
   "id": "f535cf76",
   "metadata": {},
   "outputs": [
    {
     "data": {
      "text/plain": [
       "{'accuracy': 0.998, 'precision': 0.998, 'recall': 0.998, 'f_score': 0.998}"
      ]
     },
     "execution_count": 24,
     "metadata": {},
     "output_type": "execute_result"
    }
   ],
   "source": [
    "# To check classification performance keeping in mind label switching:\n",
    "\n",
    "\n",
    "clustering_metrics(label,model2.predict())"
   ]
  },
  {
   "cell_type": "code",
   "execution_count": 25,
   "id": "2dd766cb",
   "metadata": {},
   "outputs": [
    {
     "name": "stdout",
     "output_type": "stream",
     "text": [
      "AIC -6413.908448703747\n",
      "BIC -6359.923140634944\n",
      "ICL -6368.641537267349\n"
     ]
    }
   ],
   "source": [
    "# To get AIC, BIC, ICL\n",
    "\n",
    "print(\"AIC\", model2.aic())\n",
    "print(\"BIC\", model2.bic())\n",
    "print(\"ICL\", model2.icl())"
   ]
  },
  {
   "cell_type": "markdown",
   "id": "30e47c04",
   "metadata": {},
   "source": [
    "## High Dimensional Case\n",
    "\n",
    "Only for Soft DMM it is currently implemented "
   ]
  },
  {
   "cell_type": "code",
   "execution_count": 24,
   "id": "33a39638",
   "metadata": {},
   "outputs": [],
   "source": [
    "import numpy as np\n",
    "\n",
    "pis = [0.4762, 0.2857, 0.2381]\n",
    "\n",
    "a1=np.random.uniform(10,20,1000)\n",
    "a2=np.random.uniform(20,200,1000)\n",
    "a3=np.random.uniform(10,100,1000)\n",
    "\n",
    "alphas = [[a1],[a2],[a3]]\n",
    "\n",
    "data, label = sample_mixture_distribution(1000, dirichlet.rvs, pis,alphas)"
   ]
  },
  {
   "cell_type": "code",
   "execution_count": 25,
   "id": "3dfc19f2",
   "metadata": {},
   "outputs": [
    {
     "name": "stdout",
     "output_type": "stream",
     "text": [
      "Soft DMM Fitting Done Successfully\n"
     ]
    }
   ],
   "source": [
    "# Method: Highdimensional \n",
    "\n",
    "model3 = DMM_Soft(n_clusters= 3, method=\"highdimensional\")\n",
    "model3.fit(data)"
   ]
  },
  {
   "cell_type": "code",
   "execution_count": 26,
   "id": "606b9fe8",
   "metadata": {},
   "outputs": [
    {
     "data": {
      "text/plain": [
       "{'accuracy': 1.0, 'precision': 1.0, 'recall': 1.0, 'f_score': 1.0}"
      ]
     },
     "execution_count": 26,
     "metadata": {},
     "output_type": "execute_result"
    }
   ],
   "source": [
    "# To check classification performance \n",
    "\n",
    "clustering_metrics(label,model3.predict())"
   ]
  },
  {
   "cell_type": "code",
   "execution_count": 27,
   "id": "1ae02894",
   "metadata": {},
   "outputs": [
    {
     "data": {
      "text/plain": [
       "5.802024841308594"
      ]
     },
     "execution_count": 27,
     "metadata": {},
     "output_type": "execute_result"
    }
   ],
   "source": [
    "#Execution Time in Seconds\n",
    "\n",
    "model3.execution_time"
   ]
  },
  {
   "cell_type": "code",
   "execution_count": null,
   "id": "9b477950",
   "metadata": {},
   "outputs": [],
   "source": []
  }
 ],
 "metadata": {
  "kernelspec": {
   "display_name": "Python 3 (ipykernel)",
   "language": "python",
   "name": "python3"
  },
  "language_info": {
   "codemirror_mode": {
    "name": "ipython",
    "version": 3
   },
   "file_extension": ".py",
   "mimetype": "text/x-python",
   "name": "python",
   "nbconvert_exporter": "python",
   "pygments_lexer": "ipython3",
   "version": "3.9.21"
  }
 },
 "nbformat": 4,
 "nbformat_minor": 5
}
