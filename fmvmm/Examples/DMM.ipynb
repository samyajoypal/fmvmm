{
 "cells": [
  {
   "cell_type": "markdown",
   "id": "2b229fd9",
   "metadata": {},
   "source": [
    "# Example: Dirichlet Mixture Model"
   ]
  },
  {
   "cell_type": "code",
   "execution_count": 1,
   "id": "79c71e61",
   "metadata": {},
   "outputs": [],
   "source": [
    "import os\n",
    "os.chdir(\"../..\")"
   ]
  },
  {
   "cell_type": "code",
   "execution_count": 2,
   "id": "2af2c94e",
   "metadata": {},
   "outputs": [],
   "source": [
    "# import necessary modules\n",
    "\n",
    "from fmvmm.mixtures.DMM_Soft import DMM_Soft\n",
    "from fmvmm.mixtures.DMM_Hard import DMM_Hard\n",
    "from fmvmm.utils.utils_mixture import sample_mixture_distribution\n",
    "from fmvmm.distributions import dirichlet\n",
    "import numpy as np"
   ]
  },
  {
   "cell_type": "code",
   "execution_count": 3,
   "id": "78c5994c",
   "metadata": {},
   "outputs": [],
   "source": [
    "# Let us first generate some data from a dirichlet mixture model\n",
    "np.random.seed(5)\n",
    "pis = [0.3,0.5,0.2]\n",
    "a1 =[5,5,5]\n",
    "a2 = [7,15,225]\n",
    "a3 = [50,10,4]\n",
    "alphas = [[a1],[a2],[a3]]\n",
    "\n",
    "data, label = sample_mixture_distribution(1000, dirichlet.rvs, pis,alphas)"
   ]
  },
  {
   "cell_type": "code",
   "execution_count": 4,
   "id": "04ac4188",
   "metadata": {},
   "outputs": [
    {
     "name": "stdout",
     "output_type": "stream",
     "text": [
      "Soft DMM Fitting Done Successfully\n"
     ]
    }
   ],
   "source": [
    "# First Let us fit Soft DMM to the Data\n",
    "\n",
    "model1 = DMM_Soft(n_clusters= 3)\n",
    "model1.fit(data)"
   ]
  },
  {
   "cell_type": "code",
   "execution_count": 5,
   "id": "8c8ba766",
   "metadata": {},
   "outputs": [
    {
     "name": "stdout",
     "output_type": "stream",
     "text": [
      "pi vaues:  [0.30138564 0.49999095 0.19862341]\n",
      "alpha vaues:  [[5.062837461576432, 4.983848038140964, 5.019564652120155], [7.174278834982839, 15.245684383456593, 227.31932854182696], [46.507525409682835, 9.330051120538414, 3.584104722023921]]\n"
     ]
    }
   ],
   "source": [
    "# To get the MLE of the parameters:\n",
    "\n",
    "pi_soft, alpha_soft = model1.get_params()\n",
    "\n",
    "print(\"pi vaues: \", pi_soft)\n",
    "print(\"alpha vaues: \", alpha_soft)"
   ]
  },
  {
   "cell_type": "code",
   "execution_count": 6,
   "id": "877162bd",
   "metadata": {},
   "outputs": [
    {
     "name": "stdout",
     "output_type": "stream",
     "text": [
      "standard errors:  [ 0.01745009  0.02236069  0.0142222   0.30881423  0.30519248  0.29719684\n",
      "  0.35474074  0.72245626 11.08355662  3.71008826  0.73837566  0.26803755]\n"
     ]
    }
   ],
   "source": [
    "# To get the standard errors:\n",
    "\n",
    "im, se = model1.get_info_mat(method=\"louis\")\n",
    "\n",
    "print(\"standard errors: \", se)"
   ]
  },
  {
   "cell_type": "code",
   "execution_count": 7,
   "id": "3000b5c3-fc19-4470-9adc-d09fa4daf30f",
   "metadata": {},
   "outputs": [
    {
     "name": "stdout",
     "output_type": "stream",
     "text": [
      "standard errors:  [ 0.01742648  0.02236069  0.01418818  0.30365108  0.30596142  0.31160834\n",
      "  0.32325377  0.68776915 10.26278073  3.62337514  0.71029754  0.26550514]\n"
     ]
    }
   ],
   "source": [
    "# To get the standard errors:\n",
    "\n",
    "im, se = model1.get_info_mat(method=\"score\")\n",
    "\n",
    "print(\"standard errors: \", se)"
   ]
  },
  {
   "cell_type": "code",
   "execution_count": 8,
   "id": "612b14cc",
   "metadata": {},
   "outputs": [
    {
     "data": {
      "text/plain": [
       "{'accuracy': 0.998, 'precision': 0.998, 'recall': 0.998, 'f_score': 0.998}"
      ]
     },
     "execution_count": 8,
     "metadata": {},
     "output_type": "execute_result"
    }
   ],
   "source": [
    "# To check classification performance keeping in mind label switching:\n",
    "\n",
    "from fmvmm.utils.utils_mixture import clustering_metrics\n",
    "\n",
    "clustering_metrics(label,model1.predict())"
   ]
  },
  {
   "cell_type": "code",
   "execution_count": 9,
   "id": "d599b2ee",
   "metadata": {},
   "outputs": [
    {
     "name": "stdout",
     "output_type": "stream",
     "text": [
      "AIC -6414.134290020937\n",
      "BIC -6360.148981952134\n",
      "ICL -6369.235267785873\n"
     ]
    }
   ],
   "source": [
    "# To get AIC, BIC, ICL\n",
    "\n",
    "print(\"AIC\", model1.aic())\n",
    "print(\"BIC\", model1.bic())\n",
    "print(\"ICL\", model1.icl())"
   ]
  },
  {
   "cell_type": "code",
   "execution_count": 10,
   "id": "23a3fde6",
   "metadata": {},
   "outputs": [
    {
     "name": "stdout",
     "output_type": "stream",
     "text": [
      "Hard DMM Fitting Done Successfully\n"
     ]
    }
   ],
   "source": [
    "# We can similarly fit Hard DMM\n",
    "\n",
    "model2 = DMM_Hard(n_clusters= 3)\n",
    "model2.fit(data)"
   ]
  },
  {
   "cell_type": "code",
   "execution_count": 11,
   "id": "7cc7296a",
   "metadata": {},
   "outputs": [
    {
     "name": "stdout",
     "output_type": "stream",
     "text": [
      "pi vaues:  [0.3 0.5 0.2]\n",
      "alpha vaues:  [array([5.13307   , 5.07683489, 5.13265107]), array([  7.17364518,  15.24409011, 227.29315746]), array([46.16704257,  9.29445097,  3.57438085])]\n"
     ]
    }
   ],
   "source": [
    "# To get the MLE of the parameters:\n",
    "\n",
    "pi_soft, alpha_soft = model2.get_params()\n",
    "\n",
    "print(\"pi vaues: \", pi_soft)\n",
    "print(\"alpha vaues: \", alpha_soft)"
   ]
  },
  {
   "cell_type": "code",
   "execution_count": 12,
   "id": "ac8060c3",
   "metadata": {},
   "outputs": [
    {
     "name": "stdout",
     "output_type": "stream",
     "text": [
      "standard errors:  [ 0.01732051  0.02236068  0.01414214  0.30833331  0.30256038  0.29484352\n",
      "  0.3545411   0.72193125 11.07409056  3.42785225  0.70191528  0.25899917]\n"
     ]
    }
   ],
   "source": [
    "# To get the standard errors:\n",
    "\n",
    "im, se = model2.get_info_mat(method=\"louis\")\n",
    "\n",
    "print(\"standard errors: \", se)"
   ]
  },
  {
   "cell_type": "code",
   "execution_count": 13,
   "id": "f535cf76",
   "metadata": {},
   "outputs": [
    {
     "data": {
      "text/plain": [
       "{'accuracy': 0.998, 'precision': 0.998, 'recall': 0.998, 'f_score': 0.998}"
      ]
     },
     "execution_count": 13,
     "metadata": {},
     "output_type": "execute_result"
    }
   ],
   "source": [
    "# To check classification performance keeping in mind label switching:\n",
    "\n",
    "\n",
    "clustering_metrics(label,model2.predict())"
   ]
  },
  {
   "cell_type": "code",
   "execution_count": 14,
   "id": "2dd766cb",
   "metadata": {},
   "outputs": [
    {
     "name": "stdout",
     "output_type": "stream",
     "text": [
      "AIC -6413.908448703943\n",
      "BIC -6359.923140635139\n",
      "ICL -6368.641537267545\n"
     ]
    }
   ],
   "source": [
    "# To get AIC, BIC, ICL\n",
    "\n",
    "print(\"AIC\", model2.aic())\n",
    "print(\"BIC\", model2.bic())\n",
    "print(\"ICL\", model2.icl())"
   ]
  },
  {
   "cell_type": "markdown",
   "id": "30e47c04",
   "metadata": {},
   "source": [
    "## High Dimensional Case\n",
    "\n",
    "Only for Soft DMM it is currently implemented "
   ]
  },
  {
   "cell_type": "code",
   "execution_count": 24,
   "id": "33a39638",
   "metadata": {},
   "outputs": [],
   "source": [
    "import numpy as np\n",
    "\n",
    "pis = [0.4762, 0.2857, 0.2381]\n",
    "\n",
    "a1=np.random.uniform(10,20,1000)\n",
    "a2=np.random.uniform(20,200,1000)\n",
    "a3=np.random.uniform(10,100,1000)\n",
    "\n",
    "alphas = [[a1],[a2],[a3]]\n",
    "\n",
    "data, label = sample_mixture_distribution(1000, dirichlet.rvs, pis,alphas)"
   ]
  },
  {
   "cell_type": "code",
   "execution_count": 25,
   "id": "3dfc19f2",
   "metadata": {},
   "outputs": [
    {
     "name": "stdout",
     "output_type": "stream",
     "text": [
      "Soft DMM Fitting Done Successfully\n"
     ]
    }
   ],
   "source": [
    "# Method: Highdimensional \n",
    "\n",
    "model3 = DMM_Soft(n_clusters= 3, method=\"highdimensional\")\n",
    "model3.fit(data)"
   ]
  },
  {
   "cell_type": "code",
   "execution_count": 26,
   "id": "606b9fe8",
   "metadata": {},
   "outputs": [
    {
     "data": {
      "text/plain": [
       "{'accuracy': 1.0, 'precision': 1.0, 'recall': 1.0, 'f_score': 1.0}"
      ]
     },
     "execution_count": 26,
     "metadata": {},
     "output_type": "execute_result"
    }
   ],
   "source": [
    "# To check classification performance \n",
    "\n",
    "clustering_metrics(label,model3.predict())"
   ]
  },
  {
   "cell_type": "code",
   "execution_count": 27,
   "id": "1ae02894",
   "metadata": {},
   "outputs": [
    {
     "data": {
      "text/plain": [
       "5.802024841308594"
      ]
     },
     "execution_count": 27,
     "metadata": {},
     "output_type": "execute_result"
    }
   ],
   "source": [
    "#Execution Time in Seconds\n",
    "\n",
    "model3.execution_time"
   ]
  },
  {
   "cell_type": "code",
   "execution_count": null,
   "id": "9b477950",
   "metadata": {},
   "outputs": [],
   "source": []
  }
 ],
 "metadata": {
  "kernelspec": {
   "display_name": "Python 3 (ipykernel)",
   "language": "python",
   "name": "python3"
  },
  "language_info": {
   "codemirror_mode": {
    "name": "ipython",
    "version": 3
   },
   "file_extension": ".py",
   "mimetype": "text/x-python",
   "name": "python",
   "nbconvert_exporter": "python",
   "pygments_lexer": "ipython3",
   "version": "3.9.21"
  }
 },
 "nbformat": 4,
 "nbformat_minor": 5
}
