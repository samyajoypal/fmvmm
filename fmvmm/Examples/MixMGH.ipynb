{
 "cells": [
  {
   "cell_type": "markdown",
   "id": "4e20d4db",
   "metadata": {},
   "source": [
    "# Example: Mixtures of Multivariate Generalized Hyperbolic Distributions"
   ]
  },
  {
   "cell_type": "code",
   "execution_count": 1,
   "id": "363a356d",
   "metadata": {},
   "outputs": [],
   "source": [
    "import os\n",
    "os.chdir(\"../..\")"
   ]
  },
  {
   "cell_type": "code",
   "execution_count": 2,
   "id": "fdecbb65",
   "metadata": {},
   "outputs": [],
   "source": [
    "# Let is first import the necessary modules\n",
    "\n",
    "from fmvmm.mixtures.mixmgh import MixMGH\n",
    "\n",
    "from sklearn import datasets\n",
    "from fmvmm.utils.utils_mixture import clustering_metrics"
   ]
  },
  {
   "cell_type": "code",
   "execution_count": 3,
   "id": "1eaac304",
   "metadata": {},
   "outputs": [],
   "source": [
    "# Let us load the data\n",
    "\n",
    "iris = datasets.load_iris()\n",
    "\n",
    "df = iris.data"
   ]
  },
  {
   "cell_type": "code",
   "execution_count": 4,
   "id": "8247d095",
   "metadata": {},
   "outputs": [
    {
     "name": "stdout",
     "output_type": "stream",
     "text": [
      "Mixtures of Generalized Hyperbolic Fitting Done Successfully\n"
     ]
    }
   ],
   "source": [
    "mixmgh = MixMGH(3)\n",
    "mixmgh.fit(df)"
   ]
  },
  {
   "cell_type": "code",
   "execution_count": 5,
   "id": "3a9848d5",
   "metadata": {},
   "outputs": [
    {
     "name": "stdout",
     "output_type": "stream",
     "text": [
      "pi:  [0.37351486 0.33333333 0.2931518 ]\n",
      "alpha:  [[1.251443516614637, 1.2733878089139754, 4.2878436328128, [6.334881809739672, 2.9976878546328996, 5.266862217349303, 2.0406414790381597], array([[0.24388915, 0.04857808, 0.18967309, 0.03300496],\n",
      "       [0.04857808, 0.06894494, 0.04615189, 0.04003071],\n",
      "       [0.18967309, 0.04615189, 0.20959553, 0.04429153],\n",
      "       [0.03300496, 0.04003071, 0.04429153, 0.06147807]]), [0.11954498556634396, -0.03160739958223414, 0.11585509223040637, -0.03682352879942873]], [1.242994645891014, 0.9184653743470133, 3.8527293365700284, [4.964155298494697, 3.310035152566361, 1.4583620410041307, 0.18508131865752314], array([[0.07173748, 0.05705767, 0.008784  , 0.00646266],\n",
      "       [0.05705767, 0.0840571 , 0.00603106, 0.00879105],\n",
      "       [0.008784  , 0.00603106, 0.01480674, 0.00253249],\n",
      "       [0.00646266, 0.00879105, 0.00253249, 0.00691542]]), [0.021799220394014992, 0.061454416340441055, 0.001895214139041735, 0.03173591190557481]], [1.2506683809371386, 1.2434336053588333, 4.251696248641079, [6.188022905709587, 2.9245355494498657, 4.33800236392751, 1.349698577465093], array([[0.23463937, 0.0903009 , 0.1421804 , 0.04506814],\n",
      "       [0.0903009 , 0.06894478, 0.07219935, 0.03284511],\n",
      "       [0.1421804 , 0.07219935, 0.13470148, 0.04313612],\n",
      "       [0.04506814, 0.03284511, 0.04313612, 0.021926  ]]), [-0.16240293902384217, -0.08184280972280748, -0.08486643295837504, -0.03259138786893847]]]\n"
     ]
    }
   ],
   "source": [
    "# Get the fitted parapeters\n",
    "\n",
    "print(\"pi: \", mixmgh.get_params()[0])\n",
    "print(\"alpha: \", mixmgh.get_params()[1])"
   ]
  },
  {
   "cell_type": "code",
   "execution_count": 6,
   "id": "d4adb688",
   "metadata": {},
   "outputs": [
    {
     "name": "stdout",
     "output_type": "stream",
     "text": [
      "Warning: This is experimental; Using Numerical Differentiation\n",
      "Standard Errors:  [4.96527027e-02 4.71418764e-02 4.38802791e-02 1.00000000e-04\n",
      " 1.00000000e-04 1.00000000e-04 1.00000000e-04 1.00000000e-04\n",
      " 1.00000000e-04 1.00000000e-04 3.27257846e-02 1.00000000e-04\n",
      " 3.37308314e-02 5.30716843e-03 1.28885537e-02 1.00000000e-04\n",
      " 1.09302086e-02 1.00000000e-04 1.00000000e-04 1.18744711e-02\n",
      " 1.00000000e-04 1.25815056e-02 1.00000000e-04 4.06991772e-03\n",
      " 1.00000000e-04 4.69908663e-03 1.00000000e-04 1.00000000e-04\n",
      " 1.00000000e-04 1.00000000e-04 3.13617812e+00 2.32467725e+00\n",
      " 2.20306116e+00 1.52206528e-01 1.30721560e-01 4.31007331e-02\n",
      " 2.75596816e-02 1.28826989e-02 1.13324997e-02 2.31183405e-03\n",
      " 3.34695212e-03 1.07033385e-02 1.67286678e-02 1.92554118e-03\n",
      " 4.29267847e-03 2.32968244e-03 2.58758848e-03 2.52628994e-03\n",
      " 1.25209909e-03 2.06688463e-03 3.86032918e-03 7.52090043e-04\n",
      " 2.20537529e-03 1.14636933e-01 1.03311208e-01 3.38785489e-02\n",
      " 2.58794513e-02 1.00000000e-04 1.00000000e-04 1.00000000e-04\n",
      " 1.00000000e-04 3.53304479e-01 5.18842549e-01 2.18312407e-01\n",
      " 7.52490744e-02 4.23881788e-02 6.09424443e-02 2.19257370e-02\n",
      " 6.08900300e-02 3.15749883e-02 3.87592292e-02 1.42515057e-02\n",
      " 8.63310415e-02 4.65111604e-02 6.14177916e-02 2.19294419e-02\n",
      " 3.39256175e-02 1.84928745e-02 2.28925693e-02 8.76491654e-03\n",
      " 1.00000000e-04 3.00477392e-01 4.37189868e-01 1.83185433e-01]\n"
     ]
    }
   ],
   "source": [
    "# Get Information Matrix and Standard Errors\n",
    "\n",
    "im, se = mixmgh.get_info_mat()\n",
    "\n",
    "print(\"Standard Errors: \", se)"
   ]
  },
  {
   "cell_type": "code",
   "execution_count": 7,
   "id": "413762c9",
   "metadata": {},
   "outputs": [
    {
     "name": "stdout",
     "output_type": "stream",
     "text": [
      "AIC:  646.9168096889211\n",
      "BIC:  842.6081038051777\n",
      "ICL: 839.4877079689275\n"
     ]
    }
   ],
   "source": [
    "# Get AIC, BIC, ICL\n",
    "\n",
    "print(\"AIC: \", mixmgh.aic())\n",
    "print(\"BIC: \", mixmgh.bic())\n",
    "print(\"ICL:\", mixmgh.icl())"
   ]
  },
  {
   "cell_type": "code",
   "execution_count": 8,
   "id": "4908b786",
   "metadata": {},
   "outputs": [
    {
     "data": {
      "text/plain": [
       "{'accuracy': 0.9666666666666667,\n",
       " 'precision': 0.9696969696969696,\n",
       " 'recall': 0.9666666666666667,\n",
       " 'f_score': 0.9665831244778614}"
      ]
     },
     "execution_count": 8,
     "metadata": {},
     "output_type": "execute_result"
    }
   ],
   "source": [
    "# Check classification performance\n",
    "\n",
    "clustering_metrics(iris.target, mixmgh.predict())\n"
   ]
  },
  {
   "cell_type": "code",
   "execution_count": null,
   "id": "2d3d2728",
   "metadata": {},
   "outputs": [],
   "source": []
  }
 ],
 "metadata": {
  "kernelspec": {
   "display_name": "Python 3 (ipykernel)",
   "language": "python",
   "name": "python3"
  },
  "language_info": {
   "codemirror_mode": {
    "name": "ipython",
    "version": 3
   },
   "file_extension": ".py",
   "mimetype": "text/x-python",
   "name": "python",
   "nbconvert_exporter": "python",
   "pygments_lexer": "ipython3",
   "version": "3.8.10"
  }
 },
 "nbformat": 4,
 "nbformat_minor": 5
}
