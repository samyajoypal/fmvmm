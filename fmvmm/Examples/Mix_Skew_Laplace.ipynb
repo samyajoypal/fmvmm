{
 "cells": [
  {
   "cell_type": "markdown",
   "id": "7bdaf93c",
   "metadata": {},
   "source": [
    "# Example: Mixtures of Multivariate Skew Laplace Distributions"
   ]
  },
  {
   "cell_type": "code",
   "execution_count": 1,
   "id": "911c5492",
   "metadata": {},
   "outputs": [],
   "source": [
    "import os\n",
    "os.chdir(\"../..\")"
   ]
  },
  {
   "cell_type": "code",
   "execution_count": 2,
   "id": "032c15be",
   "metadata": {},
   "outputs": [],
   "source": [
    "# Let is first import the necessary modules\n",
    "\n",
    "from fmvmm.mixtures.skewlaplacemix import SkewLaplaceMix\n",
    "\n",
    "from sklearn import datasets\n",
    "from fmvmm.utils.utils_mixture import clustering_metrics"
   ]
  },
  {
   "cell_type": "code",
   "execution_count": 3,
   "id": "17960fbe",
   "metadata": {},
   "outputs": [],
   "source": [
    "# Let us load the data\n",
    "\n",
    "iris = datasets.load_iris()\n",
    "\n",
    "df = iris.data"
   ]
  },
  {
   "cell_type": "code",
   "execution_count": 4,
   "id": "ee3617e4",
   "metadata": {},
   "outputs": [
    {
     "name": "stdout",
     "output_type": "stream",
     "text": [
      "Mixtures of Skew-Laplace Fitting Done Successfully\n"
     ]
    }
   ],
   "source": [
    "mixskewlaplace = SkewLaplaceMix(3, print_log_likelihood= False, tol=1e-6, max_iter=100)\n",
    "mixskewlaplace.fit(df)\n"
   ]
  },
  {
   "cell_type": "code",
   "execution_count": 5,
   "id": "94b5f806",
   "metadata": {},
   "outputs": [
    {
     "name": "stdout",
     "output_type": "stream",
     "text": [
      "pi:  [0.66606428 0.33304093 0.00089479]\n",
      "alpha:  [(array([5.8980627 , 2.79158251, 4.34782508, 1.41221797]), array([[0.27266735, 0.08436325, 0.282669  , 0.11548543],\n",
      "       [0.08436325, 0.07198668, 0.10179748, 0.05538966],\n",
      "       [0.282669  , 0.10179748, 0.44070793, 0.20388932],\n",
      "       [0.11548543, 0.05538966, 0.20388932, 0.12320014]]), array([0.10264539, 0.02273193, 0.15729595, 0.07437658])), (array([4.9920974 , 3.39327953, 1.45379616, 0.21942426]), array([[0.13032991, 0.10173652, 0.01632876, 0.01049716],\n",
      "       [0.10173652, 0.14457358, 0.01172202, 0.01112101],\n",
      "       [0.01632876, 0.01172202, 0.02790881, 0.0050855 ],\n",
      "       [0.01049716, 0.01112101, 0.0050855 , 0.01105436]]), array([0.0050288 , 0.01248458, 0.00292561, 0.0094107 ])), (array([6.88108149, 3.04628259, 5.75749004, 2.12137013]), array([[0.31750463, 0.02265644, 0.26451949, 0.02483398],\n",
      "       [0.02265644, 0.07080532, 0.00750081, 0.04396622],\n",
      "       [0.26451949, 0.00750081, 0.30242076, 0.01795005],\n",
      "       [0.02483398, 0.04396622, 0.01795005, 0.08544361]]), array([-0.03886426, -0.03137973, -0.02762621, -0.03763321]))]\n"
     ]
    }
   ],
   "source": [
    "# Get the fitted parapeters\n",
    "\n",
    "print(\"pi: \", mixskewlaplace.get_params()[0])\n",
    "print(\"alpha: \", mixskewlaplace.get_params()[1])"
   ]
  },
  {
   "cell_type": "code",
   "execution_count": 6,
   "id": "a863387c",
   "metadata": {},
   "outputs": [
    {
     "name": "stdout",
     "output_type": "stream",
     "text": [
      "Standard Errors:  [4.82570121e-01 1.26084197e-01 7.01992914e-02 3.38332040e-02\n",
      " 1.05095071e-01 6.09796485e-02 1.70524329e-01 5.36227976e-02\n",
      " 2.13918984e-01 1.03423182e-01 3.66025186e-02 7.34225847e-02\n",
      " 4.23902204e-02 3.25507713e-01 1.64167988e-01 9.34055910e-02\n",
      " 7.01992938e-02 3.38332041e-02 1.05095061e-01 6.09796579e-02\n",
      " 5.22046253e-02 5.60054994e-02 2.69190507e-02 2.21686870e-02\n",
      " 7.96305588e-02 7.37592515e-02 2.30712499e-02 1.97462791e-02\n",
      " 8.13491462e-02 2.77658038e-02 1.76150217e-02 1.46063729e-02\n",
      " 7.59129062e-03 6.19901796e-03 5.22046253e-02 5.60054994e-02\n",
      " 2.69190507e-02 2.21686870e-02 6.63542235e+01 3.22792255e+01\n",
      " 6.16757380e+01 2.96930829e+01 1.43047756e+02 3.35773588e+01\n",
      " 1.28848337e+02 3.78049448e+01 2.58788187e+01 3.90438804e+01\n",
      " 2.37501243e+01 1.29004885e+02 5.30462768e+01 3.66656303e+01\n",
      " 6.63542235e+01 3.22792255e+01 6.16757380e+01 2.96930829e+01]\n"
     ]
    }
   ],
   "source": [
    "# Get Information Matrix and Standard Errors\n",
    "\n",
    "im, se = mixskewlaplace.get_info_mat()\n",
    "\n",
    "print(\"Standard Errors: \", se)"
   ]
  },
  {
   "cell_type": "code",
   "execution_count": 8,
   "id": "10b34843",
   "metadata": {},
   "outputs": [
    {
     "name": "stdout",
     "output_type": "stream",
     "text": [
      "AIC:  735.9730349175824\n",
      "BIC:  904.5686113869726\n",
      "ICL: 903.3650143566443\n"
     ]
    }
   ],
   "source": [
    "# Get AIC, BIC, ICL\n",
    "\n",
    "print(\"AIC: \", mixskewlaplace.aic())\n",
    "print(\"BIC: \", mixskewlaplace.bic())\n",
    "print(\"ICL:\", mixskewlaplace.icl())"
   ]
  },
  {
   "cell_type": "code",
   "execution_count": 9,
   "id": "2c8b25cf",
   "metadata": {},
   "outputs": [
    {
     "data": {
      "text/plain": [
       "{'accuracy': 0.6666666666666666,\n",
       " 'precision': 0.5,\n",
       " 'recall': 0.6666666666666666,\n",
       " 'f_score': 0.5555555555555555}"
      ]
     },
     "execution_count": 9,
     "metadata": {},
     "output_type": "execute_result"
    }
   ],
   "source": [
    "# Check classification performance\n",
    "\n",
    "clustering_metrics(iris.target, mixskewlaplace.predict())\n"
   ]
  },
  {
   "cell_type": "code",
   "execution_count": null,
   "id": "c3dc45f3",
   "metadata": {},
   "outputs": [],
   "source": []
  }
 ],
 "metadata": {
  "kernelspec": {
   "display_name": "Python 3 (ipykernel)",
   "language": "python",
   "name": "python3"
  },
  "language_info": {
   "codemirror_mode": {
    "name": "ipython",
    "version": 3
   },
   "file_extension": ".py",
   "mimetype": "text/x-python",
   "name": "python",
   "nbconvert_exporter": "python",
   "pygments_lexer": "ipython3",
   "version": "3.8.10"
  }
 },
 "nbformat": 4,
 "nbformat_minor": 5
}
