{
 "cells": [
  {
   "cell_type": "markdown",
   "id": "0f2379c0",
   "metadata": {},
   "source": [
    "# Example: FMVMM (Mixtures of Identical and Non-Identical Distributions)"
   ]
  },
  {
   "cell_type": "code",
   "execution_count": 1,
   "id": "e2405c31",
   "metadata": {},
   "outputs": [],
   "source": [
    "import os\n",
    "os.chdir(\"../..\")"
   ]
  },
  {
   "cell_type": "code",
   "execution_count": 2,
   "id": "a460f65f",
   "metadata": {},
   "outputs": [],
   "source": [
    "# Let us first import necessary modules\n",
    "\n",
    "from fmvmm.mixtures.FMVMM import fmvmm\n",
    "from sklearn import datasets\n",
    "from fmvmm.utils.utils_mixture import clustering_metrics "
   ]
  },
  {
   "cell_type": "code",
   "execution_count": 3,
   "id": "72611ed0",
   "metadata": {},
   "outputs": [],
   "source": [
    "# LEt us first get iris data\n",
    "\n",
    "iris = datasets.load_iris()\n",
    "\n",
    "df = iris.data"
   ]
  },
  {
   "cell_type": "code",
   "execution_count": 4,
   "id": "e666c840",
   "metadata": {},
   "outputs": [
    {
     "name": "stdout",
     "output_type": "stream",
     "text": [
      "distribution fitted ['fmvmm.distributions.multivariate_genhyperbolic', 'fmvmm.distributions.multivariate_genhyperbolic', 'fmvmm.distributions.multivariate_genhyperbolic']\n",
      "distribution fitted ['fmvmm.distributions.multivariate_genhyperbolic', 'fmvmm.distributions.multivariate_genhyperbolic', 'fmvmm.distributions.multivariate_skewnorm']\n",
      "distribution fitted ['fmvmm.distributions.multivariate_genhyperbolic', 'fmvmm.distributions.multivariate_genhyperbolic', 'fmvmm.distributions.multivariate_norminvgauss']\n",
      "distribution fitted ['fmvmm.distributions.multivariate_genhyperbolic', 'fmvmm.distributions.multivariate_genhyperbolic', 'fmvmm.distributions.multivariate_t']\n",
      "distribution fitted ['fmvmm.distributions.multivariate_genhyperbolic', 'fmvmm.distributions.multivariate_genhyperbolic', 'fmvmm.distributions.multivariate_skew_t_smsn']\n",
      "distribution fitted ['fmvmm.distributions.multivariate_genhyperbolic', 'fmvmm.distributions.multivariate_skewnorm', 'fmvmm.distributions.multivariate_skewnorm']\n",
      "distribution fitted ['fmvmm.distributions.multivariate_genhyperbolic', 'fmvmm.distributions.multivariate_skewnorm', 'fmvmm.distributions.multivariate_norminvgauss']\n",
      "distribution fitted ['fmvmm.distributions.multivariate_genhyperbolic', 'fmvmm.distributions.multivariate_skewnorm', 'fmvmm.distributions.multivariate_t']\n",
      "distribution fitted ['fmvmm.distributions.multivariate_genhyperbolic', 'fmvmm.distributions.multivariate_skewnorm', 'fmvmm.distributions.multivariate_skew_t_smsn']\n",
      "distribution fitted ['fmvmm.distributions.multivariate_genhyperbolic', 'fmvmm.distributions.multivariate_norminvgauss', 'fmvmm.distributions.multivariate_norminvgauss']\n",
      "distribution fitted ['fmvmm.distributions.multivariate_genhyperbolic', 'fmvmm.distributions.multivariate_norminvgauss', 'fmvmm.distributions.multivariate_t']\n",
      "distribution fitted ['fmvmm.distributions.multivariate_genhyperbolic', 'fmvmm.distributions.multivariate_norminvgauss', 'fmvmm.distributions.multivariate_skew_t_smsn']\n",
      "distribution fitted ['fmvmm.distributions.multivariate_genhyperbolic', 'fmvmm.distributions.multivariate_t', 'fmvmm.distributions.multivariate_t']\n",
      "distribution fitted ['fmvmm.distributions.multivariate_genhyperbolic', 'fmvmm.distributions.multivariate_t', 'fmvmm.distributions.multivariate_skew_t_smsn']\n",
      "distribution fitted ['fmvmm.distributions.multivariate_genhyperbolic', 'fmvmm.distributions.multivariate_skew_t_smsn', 'fmvmm.distributions.multivariate_skew_t_smsn']\n",
      "distribution fitted ['fmvmm.distributions.multivariate_skewnorm', 'fmvmm.distributions.multivariate_skewnorm', 'fmvmm.distributions.multivariate_skewnorm']\n",
      "distribution fitted ['fmvmm.distributions.multivariate_skewnorm', 'fmvmm.distributions.multivariate_skewnorm', 'fmvmm.distributions.multivariate_norminvgauss']\n",
      "distribution fitted ['fmvmm.distributions.multivariate_skewnorm', 'fmvmm.distributions.multivariate_skewnorm', 'fmvmm.distributions.multivariate_t']\n",
      "distribution fitted ['fmvmm.distributions.multivariate_skewnorm', 'fmvmm.distributions.multivariate_skewnorm', 'fmvmm.distributions.multivariate_skew_t_smsn']\n",
      "distribution fitted ['fmvmm.distributions.multivariate_skewnorm', 'fmvmm.distributions.multivariate_norminvgauss', 'fmvmm.distributions.multivariate_norminvgauss']\n",
      "distribution fitted ['fmvmm.distributions.multivariate_skewnorm', 'fmvmm.distributions.multivariate_norminvgauss', 'fmvmm.distributions.multivariate_t']\n",
      "distribution fitted ['fmvmm.distributions.multivariate_skewnorm', 'fmvmm.distributions.multivariate_norminvgauss', 'fmvmm.distributions.multivariate_skew_t_smsn']\n",
      "distribution fitted ['fmvmm.distributions.multivariate_skewnorm', 'fmvmm.distributions.multivariate_t', 'fmvmm.distributions.multivariate_t']\n",
      "distribution fitted ['fmvmm.distributions.multivariate_skewnorm', 'fmvmm.distributions.multivariate_t', 'fmvmm.distributions.multivariate_skew_t_smsn']\n",
      "distribution fitted ['fmvmm.distributions.multivariate_skewnorm', 'fmvmm.distributions.multivariate_skew_t_smsn', 'fmvmm.distributions.multivariate_skew_t_smsn']\n",
      "distribution fitted ['fmvmm.distributions.multivariate_norminvgauss', 'fmvmm.distributions.multivariate_norminvgauss', 'fmvmm.distributions.multivariate_norminvgauss']\n",
      "distribution fitted ['fmvmm.distributions.multivariate_norminvgauss', 'fmvmm.distributions.multivariate_norminvgauss', 'fmvmm.distributions.multivariate_t']\n",
      "distribution fitted ['fmvmm.distributions.multivariate_norminvgauss', 'fmvmm.distributions.multivariate_norminvgauss', 'fmvmm.distributions.multivariate_skew_t_smsn']\n",
      "distribution fitted ['fmvmm.distributions.multivariate_norminvgauss', 'fmvmm.distributions.multivariate_t', 'fmvmm.distributions.multivariate_t']\n",
      "distribution fitted ['fmvmm.distributions.multivariate_norminvgauss', 'fmvmm.distributions.multivariate_t', 'fmvmm.distributions.multivariate_skew_t_smsn']\n",
      "distribution fitted ['fmvmm.distributions.multivariate_norminvgauss', 'fmvmm.distributions.multivariate_skew_t_smsn', 'fmvmm.distributions.multivariate_skew_t_smsn']\n",
      "distribution fitted ['fmvmm.distributions.multivariate_t', 'fmvmm.distributions.multivariate_t', 'fmvmm.distributions.multivariate_t']\n",
      "distribution fitted ['fmvmm.distributions.multivariate_t', 'fmvmm.distributions.multivariate_t', 'fmvmm.distributions.multivariate_skew_t_smsn']\n",
      "distribution fitted ['fmvmm.distributions.multivariate_t', 'fmvmm.distributions.multivariate_skew_t_smsn', 'fmvmm.distributions.multivariate_skew_t_smsn']\n",
      "distribution fitted ['fmvmm.distributions.multivariate_skew_t_smsn', 'fmvmm.distributions.multivariate_skew_t_smsn', 'fmvmm.distributions.multivariate_skew_t_smsn']\n",
      "Model fitted successfully\n"
     ]
    }
   ],
   "source": [
    "# We can  fit mixtures of all possible combinations of identical and non-identical distributions.\n",
    "#However, that might take quite an amount of time.\n",
    "\n",
    "# Let us try all possible combinations of the following distributions: \n",
    "# Multivariate Generalized Hyperbolic,\n",
    "# Skew Normal\n",
    "# Multivariate Normal Inverse Gaussian\n",
    "# Multivariate T\n",
    "# Multivariate Skew T\n",
    "\n",
    "dist = [\"mghp\", \"mvsn\", \"mnig\",\"mvt\",\"mvst\"]\n",
    "\n",
    "#If you want to use the list of all the distributions do not provide list_of_dist argument.\n",
    "#By default it will use the full list of distributions\n",
    "\n",
    "model = fmvmm(n_clusters=3, list_of_dist = dist)\n",
    "\n",
    "model.fit(df)"
   ]
  },
  {
   "cell_type": "code",
   "execution_count": 5,
   "id": "dd0c49cb",
   "metadata": {},
   "outputs": [
    {
     "data": {
      "text/plain": [
       "['fmvmm.distributions.multivariate_t',\n",
       " 'fmvmm.distributions.multivariate_t',\n",
       " 'fmvmm.distributions.multivariate_t']"
      ]
     },
     "execution_count": 5,
     "metadata": {},
     "output_type": "execute_result"
    }
   ],
   "source": [
    "# Find the best model based on bic\n",
    "\n",
    "model.best_mixture()"
   ]
  },
  {
   "cell_type": "code",
   "execution_count": 6,
   "id": "6c02c0da",
   "metadata": {},
   "outputs": [
    {
     "data": {
      "text/plain": [
       "[711.7076492774013,\n",
       " 697.0784436918127,\n",
       " 706.6009114771585,\n",
       " 681.5341597917555,\n",
       " 719.3091660401305,\n",
       " 669.4740924392906,\n",
       " 678.9965601353692,\n",
       " 653.9298084500243,\n",
       " 691.7048089330975,\n",
       " 701.4893655163868,\n",
       " 676.4226138309855,\n",
       " 714.1976216909445,\n",
       " 649.5479798218937,\n",
       " 687.3229924763755,\n",
       " 829.0889895356158,\n",
       " 630.145472719892,\n",
       " 649.9390287491451,\n",
       " 624.7352466964525,\n",
       " 710.1861816987816,\n",
       " 672.4318516614228,\n",
       " 647.2280696086405,\n",
       " 732.6789905844719,\n",
       " 620.3534457651027,\n",
       " 705.804359387904,\n",
       " 847.5705067411286,\n",
       " 695.6094167895112,\n",
       " 670.5368777398432,\n",
       " 708.4485915396067,\n",
       " 643.6622435754593,\n",
       " 681.5739596738879,\n",
       " 823.3401379214614,\n",
       " 619.0275715022165,\n",
       " 656.9914241550224,\n",
       " 798.7574219483016,\n",
       " 982.4183693203009]"
      ]
     },
     "execution_count": 6,
     "metadata": {},
     "output_type": "execute_result"
    }
   ],
   "source": [
    "# Get BIC of all the fitted models\n",
    "\n",
    "model.bic()"
   ]
  },
  {
   "cell_type": "code",
   "execution_count": 7,
   "id": "50387661",
   "metadata": {},
   "outputs": [],
   "source": [
    "# get information matrix and standard errors for all the fitted models\n",
    "\n",
    "ims, ses = model.get_info_mat()"
   ]
  },
  {
   "cell_type": "code",
   "execution_count": 8,
   "id": "cab0183e",
   "metadata": {},
   "outputs": [
    {
     "name": "stdout",
     "output_type": "stream",
     "text": [
      "Distribution Combinations That Could Be Fitted:\n",
      "0 ['fmvmm.distributions.multivariate_genhyperbolic', 'fmvmm.distributions.multivariate_genhyperbolic', 'fmvmm.distributions.multivariate_genhyperbolic']\n",
      "1 ['fmvmm.distributions.multivariate_genhyperbolic', 'fmvmm.distributions.multivariate_genhyperbolic', 'fmvmm.distributions.multivariate_skewnorm']\n",
      "2 ['fmvmm.distributions.multivariate_genhyperbolic', 'fmvmm.distributions.multivariate_genhyperbolic', 'fmvmm.distributions.multivariate_norminvgauss']\n",
      "3 ['fmvmm.distributions.multivariate_genhyperbolic', 'fmvmm.distributions.multivariate_genhyperbolic', 'fmvmm.distributions.multivariate_t']\n",
      "4 ['fmvmm.distributions.multivariate_genhyperbolic', 'fmvmm.distributions.multivariate_genhyperbolic', 'fmvmm.distributions.multivariate_skew_t_smsn']\n",
      "5 ['fmvmm.distributions.multivariate_genhyperbolic', 'fmvmm.distributions.multivariate_skewnorm', 'fmvmm.distributions.multivariate_skewnorm']\n",
      "6 ['fmvmm.distributions.multivariate_genhyperbolic', 'fmvmm.distributions.multivariate_skewnorm', 'fmvmm.distributions.multivariate_norminvgauss']\n",
      "7 ['fmvmm.distributions.multivariate_genhyperbolic', 'fmvmm.distributions.multivariate_skewnorm', 'fmvmm.distributions.multivariate_t']\n",
      "8 ['fmvmm.distributions.multivariate_genhyperbolic', 'fmvmm.distributions.multivariate_skewnorm', 'fmvmm.distributions.multivariate_skew_t_smsn']\n",
      "9 ['fmvmm.distributions.multivariate_genhyperbolic', 'fmvmm.distributions.multivariate_norminvgauss', 'fmvmm.distributions.multivariate_norminvgauss']\n",
      "10 ['fmvmm.distributions.multivariate_genhyperbolic', 'fmvmm.distributions.multivariate_norminvgauss', 'fmvmm.distributions.multivariate_t']\n",
      "11 ['fmvmm.distributions.multivariate_genhyperbolic', 'fmvmm.distributions.multivariate_norminvgauss', 'fmvmm.distributions.multivariate_skew_t_smsn']\n",
      "12 ['fmvmm.distributions.multivariate_genhyperbolic', 'fmvmm.distributions.multivariate_t', 'fmvmm.distributions.multivariate_t']\n",
      "13 ['fmvmm.distributions.multivariate_genhyperbolic', 'fmvmm.distributions.multivariate_t', 'fmvmm.distributions.multivariate_skew_t_smsn']\n",
      "14 ['fmvmm.distributions.multivariate_genhyperbolic', 'fmvmm.distributions.multivariate_skew_t_smsn', 'fmvmm.distributions.multivariate_skew_t_smsn']\n",
      "15 ['fmvmm.distributions.multivariate_skewnorm', 'fmvmm.distributions.multivariate_skewnorm', 'fmvmm.distributions.multivariate_skewnorm']\n",
      "16 ['fmvmm.distributions.multivariate_skewnorm', 'fmvmm.distributions.multivariate_skewnorm', 'fmvmm.distributions.multivariate_norminvgauss']\n",
      "17 ['fmvmm.distributions.multivariate_skewnorm', 'fmvmm.distributions.multivariate_skewnorm', 'fmvmm.distributions.multivariate_t']\n",
      "18 ['fmvmm.distributions.multivariate_skewnorm', 'fmvmm.distributions.multivariate_skewnorm', 'fmvmm.distributions.multivariate_skew_t_smsn']\n",
      "19 ['fmvmm.distributions.multivariate_skewnorm', 'fmvmm.distributions.multivariate_norminvgauss', 'fmvmm.distributions.multivariate_norminvgauss']\n",
      "20 ['fmvmm.distributions.multivariate_skewnorm', 'fmvmm.distributions.multivariate_norminvgauss', 'fmvmm.distributions.multivariate_t']\n",
      "21 ['fmvmm.distributions.multivariate_skewnorm', 'fmvmm.distributions.multivariate_norminvgauss', 'fmvmm.distributions.multivariate_skew_t_smsn']\n",
      "22 ['fmvmm.distributions.multivariate_skewnorm', 'fmvmm.distributions.multivariate_t', 'fmvmm.distributions.multivariate_t']\n",
      "23 ['fmvmm.distributions.multivariate_skewnorm', 'fmvmm.distributions.multivariate_t', 'fmvmm.distributions.multivariate_skew_t_smsn']\n",
      "24 ['fmvmm.distributions.multivariate_skewnorm', 'fmvmm.distributions.multivariate_skew_t_smsn', 'fmvmm.distributions.multivariate_skew_t_smsn']\n",
      "25 ['fmvmm.distributions.multivariate_norminvgauss', 'fmvmm.distributions.multivariate_norminvgauss', 'fmvmm.distributions.multivariate_norminvgauss']\n",
      "26 ['fmvmm.distributions.multivariate_norminvgauss', 'fmvmm.distributions.multivariate_norminvgauss', 'fmvmm.distributions.multivariate_t']\n",
      "27 ['fmvmm.distributions.multivariate_norminvgauss', 'fmvmm.distributions.multivariate_norminvgauss', 'fmvmm.distributions.multivariate_skew_t_smsn']\n",
      "28 ['fmvmm.distributions.multivariate_norminvgauss', 'fmvmm.distributions.multivariate_t', 'fmvmm.distributions.multivariate_t']\n",
      "29 ['fmvmm.distributions.multivariate_norminvgauss', 'fmvmm.distributions.multivariate_t', 'fmvmm.distributions.multivariate_skew_t_smsn']\n",
      "30 ['fmvmm.distributions.multivariate_norminvgauss', 'fmvmm.distributions.multivariate_skew_t_smsn', 'fmvmm.distributions.multivariate_skew_t_smsn']\n",
      "31 ['fmvmm.distributions.multivariate_t', 'fmvmm.distributions.multivariate_t', 'fmvmm.distributions.multivariate_t']\n",
      "32 ['fmvmm.distributions.multivariate_t', 'fmvmm.distributions.multivariate_t', 'fmvmm.distributions.multivariate_skew_t_smsn']\n",
      "33 ['fmvmm.distributions.multivariate_t', 'fmvmm.distributions.multivariate_skew_t_smsn', 'fmvmm.distributions.multivariate_skew_t_smsn']\n",
      "34 ['fmvmm.distributions.multivariate_skew_t_smsn', 'fmvmm.distributions.multivariate_skew_t_smsn', 'fmvmm.distributions.multivariate_skew_t_smsn']\n"
     ]
    }
   ],
   "source": [
    "# We can see Out of the fitted models which were successfull\n",
    "\n",
    "model.worked()"
   ]
  },
  {
   "cell_type": "code",
   "execution_count": 9,
   "id": "b3b2cc31",
   "metadata": {},
   "outputs": [
    {
     "name": "stdout",
     "output_type": "stream",
     "text": [
      "Distribution Combinations That Could Not Be Fitted:\n"
     ]
    }
   ],
   "source": [
    "# We can see Out of the fitted models which were not successfull\n",
    "\n",
    "model.not_worked()"
   ]
  },
  {
   "cell_type": "code",
   "execution_count": 10,
   "id": "e946a43c",
   "metadata": {},
   "outputs": [],
   "source": [
    "# Luckily all models were successfull.\n",
    "\n",
    "# We can get the MLEs for all the models\n",
    "\n",
    "pi_list, alpha_list = model.get_params()"
   ]
  },
  {
   "cell_type": "code",
   "execution_count": 11,
   "id": "5718eefb",
   "metadata": {},
   "outputs": [
    {
     "name": "stdout",
     "output_type": "stream",
     "text": [
      "pi:  [0.42666667 0.33333333 0.24      ]\n",
      "alpha:  [(array([5.96086899, 2.8376423 , 4.05928003, 1.1618888 ]), array([[0.23305969, 0.07155415, 0.13199134, 0.02847889],\n",
      "       [0.07155415, 0.09287426, 0.02926368, 0.00686498],\n",
      "       [0.13199134, 0.02926368, 0.3799496 , 0.21610546],\n",
      "       [0.02847889, 0.00686498, 0.21610546, 0.16233063]]), array([-1.2735831 , -2.58377104,  4.21371348,  5.05288398])), (array([4.92949575, 3.31313483, 1.39171769, 0.13216361]), array([[0.1276169 , 0.10601967, 0.0214049 , 0.01883297],\n",
      "       [0.10601967, 0.15401001, 0.01953699, 0.02218784],\n",
      "       [0.0214049 , 0.01953699, 0.0344956 , 0.01394868],\n",
      "       [0.01883297, 0.02218784, 0.01394868, 0.02384272]]), array([0.32199196, 1.23594201, 1.19854539, 3.84975236])), (array([6.37578569, 2.93361081, 5.40024292, 2.18999692]), array([[ 0.47779152,  0.09320541,  0.36423354, -0.03938397],\n",
      "       [ 0.09320541,  0.10631035,  0.06615481,  0.02181322],\n",
      "       [ 0.36423354,  0.06615481,  0.35731247, -0.0319485 ],\n",
      "       [-0.03938397,  0.02181322, -0.0319485 ,  0.07554387]]), array([ 6.21025658,  3.44802407,  4.66148558, -3.32321984]))]\n"
     ]
    }
   ],
   "source": [
    "# let us now get the MLEs of the best model\n",
    "\n",
    "pi_best, alpha_best = model.best_params()\n",
    "\n",
    "print(\"pi: \", pi_best)\n",
    "print(\"alpha: \", alpha_best)"
   ]
  },
  {
   "cell_type": "code",
   "execution_count": 12,
   "id": "be6049b6",
   "metadata": {},
   "outputs": [
    {
     "data": {
      "text/plain": [
       "{'accuracy': 0.9066666666666666,\n",
       " 'precision': 0.9270833333333334,\n",
       " 'recall': 0.9066666666666666,\n",
       " 'f_score': 0.9048007615939072}"
      ]
     },
     "execution_count": 12,
     "metadata": {},
     "output_type": "execute_result"
    }
   ],
   "source": [
    "# Check the clustering performance\n",
    "\n",
    "from fmvmm.utils.utils_mixture import clustering_metrics\n",
    "\n",
    "# To get the predictions for all the models\n",
    "\n",
    "cluster_list = model.predict()\n",
    "\n",
    "# To get the predictions for the best model\n",
    "\n",
    "best_cluster = model.best_predict()\n",
    "\n",
    "clustering_metrics(iris.target, best_cluster)"
   ]
  },
  {
   "cell_type": "code",
   "execution_count": 15,
   "id": "1e19313c",
   "metadata": {},
   "outputs": [
    {
     "data": {
      "text/plain": [
       "[(619.0275715022165,\n",
       "  ['fmvmm.distributions.multivariate_t',\n",
       "   'fmvmm.distributions.multivariate_t',\n",
       "   'fmvmm.distributions.multivariate_t']),\n",
       " (620.3534457651027,\n",
       "  ['fmvmm.distributions.multivariate_skewnorm',\n",
       "   'fmvmm.distributions.multivariate_t',\n",
       "   'fmvmm.distributions.multivariate_t']),\n",
       " (624.7352466964525,\n",
       "  ['fmvmm.distributions.multivariate_skewnorm',\n",
       "   'fmvmm.distributions.multivariate_skewnorm',\n",
       "   'fmvmm.distributions.multivariate_t']),\n",
       " (630.145472719892,\n",
       "  ['fmvmm.distributions.multivariate_skewnorm',\n",
       "   'fmvmm.distributions.multivariate_skewnorm',\n",
       "   'fmvmm.distributions.multivariate_skewnorm']),\n",
       " (643.6622435754593,\n",
       "  ['fmvmm.distributions.multivariate_norminvgauss',\n",
       "   'fmvmm.distributions.multivariate_t',\n",
       "   'fmvmm.distributions.multivariate_t']),\n",
       " (647.2280696086405,\n",
       "  ['fmvmm.distributions.multivariate_skewnorm',\n",
       "   'fmvmm.distributions.multivariate_norminvgauss',\n",
       "   'fmvmm.distributions.multivariate_t']),\n",
       " (649.5479798218937,\n",
       "  ['fmvmm.distributions.multivariate_genhyperbolic',\n",
       "   'fmvmm.distributions.multivariate_t',\n",
       "   'fmvmm.distributions.multivariate_t']),\n",
       " (649.9390287491451,\n",
       "  ['fmvmm.distributions.multivariate_skewnorm',\n",
       "   'fmvmm.distributions.multivariate_skewnorm',\n",
       "   'fmvmm.distributions.multivariate_norminvgauss']),\n",
       " (653.9298084500243,\n",
       "  ['fmvmm.distributions.multivariate_genhyperbolic',\n",
       "   'fmvmm.distributions.multivariate_skewnorm',\n",
       "   'fmvmm.distributions.multivariate_t']),\n",
       " (656.9914241550224,\n",
       "  ['fmvmm.distributions.multivariate_t',\n",
       "   'fmvmm.distributions.multivariate_t',\n",
       "   'fmvmm.distributions.multivariate_skew_t_smsn'])]"
      ]
     },
     "execution_count": 15,
     "metadata": {},
     "output_type": "execute_result"
    }
   ],
   "source": [
    "# Get the top performing models with the BIC values\n",
    "\n",
    "model.get_top_mixtures()"
   ]
  },
  {
   "cell_type": "code",
   "execution_count": null,
   "id": "fa44bb7a",
   "metadata": {},
   "outputs": [],
   "source": []
  }
 ],
 "metadata": {
  "kernelspec": {
   "display_name": "Python 3 (ipykernel)",
   "language": "python",
   "name": "python3"
  },
  "language_info": {
   "codemirror_mode": {
    "name": "ipython",
    "version": 3
   },
   "file_extension": ".py",
   "mimetype": "text/x-python",
   "name": "python",
   "nbconvert_exporter": "python",
   "pygments_lexer": "ipython3",
   "version": "3.8.10"
  }
 },
 "nbformat": 4,
 "nbformat_minor": 5
}
