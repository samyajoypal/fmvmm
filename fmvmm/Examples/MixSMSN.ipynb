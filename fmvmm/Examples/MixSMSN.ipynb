{
 "cells": [
  {
   "cell_type": "markdown",
   "id": "4ba947be",
   "metadata": {},
   "source": [
    "# Example: Mixtures of Scale Mixtures of Skew Normal Distributions"
   ]
  },
  {
   "cell_type": "code",
   "execution_count": 1,
   "id": "784a0af0",
   "metadata": {},
   "outputs": [],
   "source": [
    "import os\n",
    "os.chdir(\"../..\")"
   ]
  },
  {
   "cell_type": "code",
   "execution_count": 2,
   "id": "c3bfbd25",
   "metadata": {},
   "outputs": [],
   "source": [
    "# Let is first import the necessary modules\n",
    "\n",
    "from fmvmm.mixtures.skewtmix_smsn import SkewTMix\n",
    "from fmvmm.mixtures.tmix_smsn import TMix\n",
    "from fmvmm.mixtures.skewcontmix_smsn import SkewContMix\n",
    "from fmvmm.mixtures.skewslashmix_smsn import SkewSlashMix\n",
    "from fmvmm.mixtures.slashmix_smsn import SlashMix\n",
    "from fmvmm.mixtures.skewnormmix_smsn import SkewNormalMix\n",
    "\n",
    "from sklearn import datasets\n",
    "from fmvmm.utils.utils_mixture import clustering_metrics"
   ]
  },
  {
   "cell_type": "code",
   "execution_count": 3,
   "id": "f03bd298",
   "metadata": {},
   "outputs": [],
   "source": [
    "# Let us load the data\n",
    "\n",
    "iris = datasets.load_iris()\n",
    "\n",
    "df = iris.data"
   ]
  },
  {
   "cell_type": "code",
   "execution_count": 4,
   "id": "d041c302",
   "metadata": {},
   "outputs": [
    {
     "name": "stdout",
     "output_type": "stream",
     "text": [
      "Loglikelihood: -371.2956368022724 Relative Difference: 0.15101978191777005\n",
      "Loglikelihood: -363.3999761184025 Relative Difference: 0.021265158814873446\n",
      "Loglikelihood: -358.00136068818824 Relative Difference: 0.014855849711050284\n",
      "Loglikelihood: -355.5091182166209 Relative Difference: 0.006961544690155641\n",
      "Loglikelihood: -354.35201068494825 Relative Difference: 0.0032547900247317453\n",
      "Loglikelihood: -353.67570117652 Relative Difference: 0.0019085809817219704\n",
      "Loglikelihood: -353.19081732154905 Relative Difference: 0.0013709843604126136\n",
      "Loglikelihood: -352.8027245168912 Relative Difference: 0.0010988190678369774\n",
      "Loglikelihood: -352.4793628525043 Relative Difference: 0.00091655092751813\n",
      "Loglikelihood: -352.2077978594939 Relative Difference: 0.0007704422489099483\n",
      "Loglikelihood: -351.98042410374427 Relative Difference: 0.000645567069018531\n",
      "Loglikelihood: -351.7910547947448 Relative Difference: 0.0005380109120603944\n",
      "Loglikelihood: -351.6340409570395 Relative Difference: 0.0004463269760993392\n",
      "Loglikelihood: -351.5042141263181 Relative Difference: 0.0003692100752475714\n",
      "Loglikelihood: -351.3969758685534 Relative Difference: 0.0003050838466653\n",
      "Loglikelihood: -351.30835169700185 Relative Difference: 0.0002522052767599668\n",
      "Loglikelihood: -351.2349852344693 Relative Difference: 0.00020883779784378902\n",
      "Loglikelihood: -351.17409015097564 Relative Difference: 0.00017337419691556468\n",
      "Loglikelihood: -351.123380962248 Relative Difference: 0.0001443990036560974\n",
      "Loglikelihood: -351.0809979408639 Relative Difference: 0.00012070691865627305\n",
      "Loglikelihood: -351.045435138282 Relative Difference: 0.00010129515066450511\n",
      "Loglikelihood: -351.0154759413523 Relative Difference: 8.534279022293099e-05\n",
      "Mixtures of Skew-t Fitting Done Successfully\n"
     ]
    }
   ],
   "source": [
    "# Fit Skew T Mixtures\n",
    "\n",
    "mixskt = SkewTMix(3, print_log_likelihood= True)\n",
    "mixskt.fit(df)"
   ]
  },
  {
   "cell_type": "code",
   "execution_count": 5,
   "id": "4fbb0d52",
   "metadata": {},
   "outputs": [
    {
     "name": "stdout",
     "output_type": "stream",
     "text": [
      "pi:  [0.37000379 0.33304424 0.29695197]\n",
      "alpha:  [(array([6.0711216 , 2.78756351, 4.63270717, 1.63180109]), array([[0.86758208, 0.39185542, 0.81091553, 0.21889047],\n",
      "       [0.39185542, 0.23564764, 0.39438919, 0.12693868],\n",
      "       [0.81091553, 0.39438919, 0.96576102, 0.3551311 ],\n",
      "       [0.21889047, 0.12693868, 0.3551311 , 0.20208094]]), array([-2.54699351, -1.7486879 , -2.18536936,  1.58294646]), 17.229344283562746), (array([4.99045976, 3.40705385, 1.46539514, 0.24484768]), array([[0.3644566 , 0.38294493, 0.1456856 , 0.13857577],\n",
      "       [0.38294493, 0.45550725, 0.16151953, 0.15596112],\n",
      "       [0.1456856 , 0.16151953, 0.08643444, 0.06834219],\n",
      "       [0.13857577, 0.15596112, 0.06834219, 0.07102983]]), array([2.26377216, 2.63144736, 1.78656813, 2.21615894]), 17.229344283562746), (array([6.48349924, 2.98507509, 5.24060991, 1.71817488]), array([[0.9990476 , 0.29966693, 0.88855954, 0.13251398],\n",
      "       [0.29966693, 0.15493869, 0.24814247, 0.03865466],\n",
      "       [0.88855954, 0.24814247, 0.9308995 , 0.1818355 ],\n",
      "       [0.13251398, 0.03865466, 0.1818355 , 0.08485627]]), array([ 2.49658778,  2.05323674,  1.9249713 , -1.26842926]), 17.229344283562746)]\n"
     ]
    }
   ],
   "source": [
    "# Get the fitted parapeters\n",
    "\n",
    "print(\"pi: \", mixskt.get_params()[0])\n",
    "print(\"alpha: \", mixskt.get_params()[1])"
   ]
  },
  {
   "cell_type": "code",
   "execution_count": 6,
   "id": "a80ad003",
   "metadata": {},
   "outputs": [
    {
     "name": "stdout",
     "output_type": "stream",
     "text": [
      "Standard Errors:  [ 0.38285205  0.26151646  0.39477588  0.25093879  5.56492295  5.13400495\n",
      "  4.45977522  2.0505366   0.91156153  0.5230792   0.7003319   0.1909144\n",
      "  0.37882173  0.44992508  0.08600855  0.62392673  0.16573211  0.06864016\n",
      "  0.20110888  0.21542033  0.07913614  0.04621817  5.49450428  5.49593531\n",
      "  3.09536322  3.06215706  0.61987801  0.63139076  0.29929247  0.28741622\n",
      "  0.67802909  0.30231763  0.28982768  0.17265724  0.15109762  0.1503671\n",
      "  0.87833128  0.14020634  1.03457717  0.41001334  7.75004375  5.93768878\n",
      "  8.00738784  6.75055958  1.4914925   0.31285265  1.43228754  0.50722261\n",
      "  0.32095102  0.35136443  0.38640607  1.34394987  0.34351059  0.21832855\n",
      "  0.36269579  0.39053692 14.28918124]\n"
     ]
    }
   ],
   "source": [
    "# Get Information Matrix and Standard Errors\n",
    "\n",
    "im, se = mixskt.get_info_mat()\n",
    "\n",
    "print(\"Standard Errors: \", se)"
   ]
  },
  {
   "cell_type": "code",
   "execution_count": 7,
   "id": "356f17b0",
   "metadata": {},
   "outputs": [
    {
     "name": "stdout",
     "output_type": "stream",
     "text": [
      "AIC:  820.0309518827046\n",
      "BIC:  997.6584342343837\n",
      "ICL: 983.5957913886485\n"
     ]
    }
   ],
   "source": [
    "# Get AIC, BIC, ICL\n",
    "\n",
    "print(\"AIC: \", mixskt.aic())\n",
    "print(\"BIC: \", mixskt.bic())\n",
    "print(\"ICL:\", mixskt.icl())"
   ]
  },
  {
   "cell_type": "code",
   "execution_count": 8,
   "id": "8ed4d681",
   "metadata": {},
   "outputs": [
    {
     "data": {
      "text/plain": [
       "{'accuracy': 0.7133333333333334,\n",
       " 'precision': 0.7138047138047138,\n",
       " 'recall': 0.7133333333333334,\n",
       " 'f_score': 0.7126148705096073}"
      ]
     },
     "execution_count": 8,
     "metadata": {},
     "output_type": "execute_result"
    }
   ],
   "source": [
    "# Check classification performance\n",
    "\n",
    "clustering_metrics(iris.target, mixskt.predict())"
   ]
  },
  {
   "cell_type": "code",
   "execution_count": 9,
   "id": "42901232",
   "metadata": {},
   "outputs": [
    {
     "name": "stdout",
     "output_type": "stream",
     "text": [
      "Loglikelihood: -193.8393002457091 Relative Difference: 0.10964495000932224\n",
      "Loglikelihood: -192.41901409318322 Relative Difference: 0.007327132066229771\n",
      "Loglikelihood: -191.51349543626702 Relative Difference: 0.00470597285400123\n",
      "Loglikelihood: -190.7243995996268 Relative Difference: 0.004120314523228096\n",
      "Loglikelihood: -190.01486497347815 Relative Difference: 0.0037202089907642146\n",
      "Loglikelihood: -189.38253779992718 Relative Difference: 0.003327777401200875\n",
      "Loglikelihood: -188.82220209974793 Relative Difference: 0.002958750614965448\n",
      "Loglikelihood: -188.32244111685918 Relative Difference: 0.0026467278600253758\n",
      "Loglikelihood: -187.86993295994586 Relative Difference: 0.002402837145853113\n",
      "Loglikelihood: -187.45299449305398 Relative Difference: 0.002219293211653884\n",
      "Loglikelihood: -187.06294722205968 Relative Difference: 0.002080773753703651\n",
      "Loglikelihood: -186.694261477167 Relative Difference: 0.0019709180806127876\n",
      "Loglikelihood: -186.34429524024267 Relative Difference: 0.0018745420140679175\n",
      "Loglikelihood: -186.01290011290934 Relative Difference: 0.0017784023219282843\n",
      "Loglikelihood: -185.70188657150788 Relative Difference: 0.001671999851691288\n",
      "Loglikelihood: -185.4142946915304 Relative Difference: 0.0015486750581112456\n",
      "Loglikelihood: -185.15349217875723 Relative Difference: 0.0014065933438791492\n",
      "Loglikelihood: -184.9222408119597 Relative Difference: 0.0012489711324173126\n",
      "Loglikelihood: -184.7219570154236 Relative Difference: 0.0010830703524718753\n",
      "Loglikelihood: -184.55236904015112 Relative Difference: 0.0009180715601574752\n",
      "Loglikelihood: -184.4116270780928 Relative Difference: 0.0007626126003708702\n",
      "Loglikelihood: -184.2967454703803 Relative Difference: 0.0006229629309862108\n",
      "Loglikelihood: -184.2041628819235 Relative Difference: 0.0005023560683098033\n",
      "Loglikelihood: -184.13023437997546 Relative Difference: 0.0004013400174643993\n",
      "Mixtures of T-Fitting Done Successfully\n"
     ]
    }
   ],
   "source": [
    "# Fit T Mixtures\n",
    "\n",
    "mixt = TMix(3, print_log_likelihood= True)\n",
    "mixt.fit(df)\n"
   ]
  },
  {
   "cell_type": "code",
   "execution_count": 10,
   "id": "c289cddd",
   "metadata": {},
   "outputs": [
    {
     "name": "stdout",
     "output_type": "stream",
     "text": [
      "pi:  [0.32488238 0.3333332  0.34178442]\n",
      "alpha:  [(array([5.93190709, 2.783715  , 4.25735401, 1.32545814]), array([[0.25944713, 0.08578269, 0.17280143, 0.05399592],\n",
      "       [0.08578269, 0.09127211, 0.08356703, 0.04102065],\n",
      "       [0.17280143, 0.08356703, 0.20295529, 0.07023632],\n",
      "       [0.05399592, 0.04102065, 0.07023632, 0.0391601 ]]), array([0., 0., 0., 0.]), 18.20618222238473), (array([4.99445036, 3.40984465, 1.46005783, 0.23573456]), array([[0.11233039, 0.08741496, 0.01446654, 0.00935181],\n",
      "       [0.08741496, 0.12344849, 0.01036558, 0.00957757],\n",
      "       [0.01446654, 0.01036558, 0.02366584, 0.00437654],\n",
      "       [0.00935181, 0.00957757, 0.00437654, 0.0091953 ]]), array([0., 0., 0., 0.]), 18.20618222238473), (array([6.61634549, 2.99440035, 5.55240455, 2.0385976 ]), array([[0.29857309, 0.05573947, 0.22812537, 0.0348815 ],\n",
      "       [0.05573947, 0.07911862, 0.04612916, 0.04149377],\n",
      "       [0.22812537, 0.04612916, 0.24501712, 0.0406331 ],\n",
      "       [0.0348815 , 0.04149377, 0.0406331 , 0.06988291]]), array([0., 0., 0., 0.]), 18.20618222238473)]\n"
     ]
    }
   ],
   "source": [
    "# Get the fitted parapeters\n",
    "\n",
    "print(\"pi: \", mixt.get_params()[0])\n",
    "print(\"alpha: \", mixt.get_params()[1])"
   ]
  },
  {
   "cell_type": "code",
   "execution_count": 11,
   "id": "5a43a1da",
   "metadata": {},
   "outputs": [
    {
     "name": "stdout",
     "output_type": "stream",
     "text": [
      "Standard Errors:  [9.64670481e-02 5.39563450e-02 9.40005243e-02 3.92031658e-02\n",
      " 7.07531402e-02 3.20271832e-02 4.47157787e-02 2.55267025e-02\n",
      " 3.25241562e-02 4.56744396e-02 1.89731591e-02 5.50967517e-02\n",
      " 2.81691583e-02 2.26635852e-02 5.40944128e-02 5.64390353e-02\n",
      " 2.57284764e-02 1.91970863e-02 3.79087998e-02 3.42541215e-02\n",
      " 1.41812627e-02 1.58061838e-02 3.44550520e-02 1.86762799e-02\n",
      " 1.19578038e-02 1.67824980e-02 1.06174514e-02 1.15143215e-02\n",
      " 1.00391473e-01 4.53508358e-02 9.52039359e-02 4.45923427e-02\n",
      " 5.68837183e-02 2.96718093e-02 5.21648508e-02 2.97503819e-02\n",
      " 3.32916088e-02 2.76180281e-02 2.34602125e-02 6.07659601e-02\n",
      " 3.40979599e-02 3.89814994e-02 4.69521527e-02 3.96715776e-02\n",
      " 1.66305426e+01]\n"
     ]
    }
   ],
   "source": [
    "# Get Information Matrix and Standard Errors\n",
    "\n",
    "im, se = mixt.get_info_mat()\n",
    "\n",
    "print(\"Standard Errors: \", se)"
   ]
  },
  {
   "cell_type": "code",
   "execution_count": 12,
   "id": "f6daaef3",
   "metadata": {},
   "outputs": [
    {
     "name": "stdout",
     "output_type": "stream",
     "text": [
      "AIC:  462.2604687599509\n",
      "BIC:  603.7603275824749\n",
      "ICL: 595.6331203853786\n"
     ]
    }
   ],
   "source": [
    "# Get AIC, BIC, ICL\n",
    "\n",
    "print(\"AIC: \", mixt.aic())\n",
    "print(\"BIC: \", mixt.bic())\n",
    "print(\"ICL:\", mixt.icl())"
   ]
  },
  {
   "cell_type": "code",
   "execution_count": 13,
   "id": "5800e329",
   "metadata": {},
   "outputs": [
    {
     "data": {
      "text/plain": [
       "{'accuracy': 0.9866666666666667,\n",
       " 'precision': 0.9871794871794873,\n",
       " 'recall': 0.9866666666666667,\n",
       " 'f_score': 0.9866613311991462}"
      ]
     },
     "execution_count": 13,
     "metadata": {},
     "output_type": "execute_result"
    }
   ],
   "source": [
    "# Check classification performance\n",
    "\n",
    "clustering_metrics(iris.target, mixt.predict())"
   ]
  },
  {
   "cell_type": "code",
   "execution_count": 14,
   "id": "05f072a3",
   "metadata": {},
   "outputs": [
    {
     "name": "stdout",
     "output_type": "stream",
     "text": [
      "Loglikelihood: -225.52198395237636 Relative Difference: 0.27586820478552804\n",
      "Loglikelihood: -224.37970598303127 Relative Difference: 0.005065040442293659\n",
      "Loglikelihood: -223.99208631576346 Relative Difference: 0.0017275166021348078\n",
      "Loglikelihood: -223.71603513934986 Relative Difference: 0.001232414863194993\n",
      "Loglikelihood: -223.42114887346776 Relative Difference: 0.0013181275347492086\n",
      "Loglikelihood: -223.0311257271431 Relative Difference: 0.0017456858864580947\n",
      "Loglikelihood: -222.4660159082939 Relative Difference: 0.002533771091397068\n",
      "Loglikelihood: -221.6763917135234 Relative Difference: 0.0035494149142132956\n",
      "Loglikelihood: -220.758040021554 Relative Difference: 0.004142758211060242\n",
      "Loglikelihood: -219.95531487516337 Relative Difference: 0.003636221567795461\n",
      "Loglikelihood: -219.38895541741596 Relative Difference: 0.002574884167126627\n",
      "Loglikelihood: -219.0011442227173 Relative Difference: 0.0017676878672437967\n",
      "Loglikelihood: -218.7368601211851 Relative Difference: 0.001206770414237851\n",
      "Loglikelihood: -218.5690229219625 Relative Difference: 0.0007673018581760915\n",
      "Loglikelihood: -218.4702896809595 Relative Difference: 0.00045172568227225436\n",
      "Loglikelihood: -218.41460309377163 Relative Difference: 0.00025489318144442195\n",
      "Loglikelihood: -218.3835271532187 Relative Difference: 0.00014227959171574428\n",
      "Loglikelihood: -218.36607017530605 Relative Difference: 7.99372468253819e-05\n",
      "Mixtures of Skew-CN Fitting Done Successfully\n"
     ]
    }
   ],
   "source": [
    "# Fit Skew Normal Contaminated Mixtures\n",
    "\n",
    "mixcont = SkewContMix(3, print_log_likelihood= True)\n",
    "mixcont.fit(df)\n"
   ]
  },
  {
   "cell_type": "code",
   "execution_count": 15,
   "id": "a5617eed",
   "metadata": {},
   "outputs": [
    {
     "name": "stdout",
     "output_type": "stream",
     "text": [
      "pi:  [0.4596944  0.33333297 0.20697263]\n",
      "alpha:  [(array([6.10506039, 2.85784899, 4.58341679, 1.48318336]), array([[0.25743807, 0.10286502, 0.19845245, 0.05102933],\n",
      "       [0.10286502, 0.09251896, 0.09514296, 0.03303324],\n",
      "       [0.19845245, 0.09514296, 0.29567243, 0.12752389],\n",
      "       [0.05102933, 0.03303324, 0.12752389, 0.08659904]]), array([-1.05066671, -0.91332201, -0.97434458,  0.76883311]), array([0.66447118, 0.63782431])), (array([4.89664417, 3.31143779, 1.41221215, 0.20802442]), array([[0.12723065, 0.11292619, 0.02986616, 0.02210501],\n",
      "       [0.11292619, 0.14590016, 0.02860198, 0.0227835 ],\n",
      "       [0.02986616, 0.02860198, 0.0289085 , 0.01085046],\n",
      "       [0.02210501, 0.0227835 , 0.01085046, 0.01291066]]), array([0.89198441, 1.01668189, 0.85008435, 0.99854083]), array([0.66447118, 0.63782431])), (array([6.71178397, 3.00741058, 5.65006734, 2.10726853]), array([[ 0.28065002,  0.05026685,  0.22240453, -0.0007712 ],\n",
      "       [ 0.05026685,  0.07630062,  0.03573755,  0.02310408],\n",
      "       [ 0.22240453,  0.03573755,  0.22653933, -0.0033799 ],\n",
      "       [-0.0007712 ,  0.02310408, -0.0033799 ,  0.06234848]]), array([ 1.13514315,  1.09342689,  1.02436791, -0.8473088 ]), array([0.66447118, 0.63782431]))]\n"
     ]
    }
   ],
   "source": [
    "# Get the fitted parapeters\n",
    "\n",
    "print(\"pi: \", mixcont.get_params()[0])\n",
    "print(\"alpha: \", mixcont.get_params()[1])"
   ]
  },
  {
   "cell_type": "code",
   "execution_count": 16,
   "id": "07e19e84",
   "metadata": {},
   "outputs": [
    {
     "name": "stdout",
     "output_type": "stream",
     "text": [
      "Standard Errors:  [2.70347138e-01 1.89511725e-01 3.11554836e-01 2.11038694e-01\n",
      " 1.43715075e+00 1.62033610e+00 1.11399826e+00 1.09552343e+00\n",
      " 1.63770582e-01 8.77446553e-02 9.79998020e-02 6.58726085e-02\n",
      " 9.62383359e-02 6.98190867e-02 4.91062494e-02 1.09451531e-01\n",
      " 6.13893625e-02 3.74751900e-02 2.39166665e-01 2.95667772e-01\n",
      " 1.02189043e-01 7.14445530e-02 1.49250921e+00 1.53634549e+00\n",
      " 1.21453712e+00 1.47208152e+00 1.26095818e-01 1.18815891e-01\n",
      " 5.55874747e-02 4.86045370e-02 1.36166576e-01 5.38282343e-02\n",
      " 3.37489212e-02 4.96184976e-02 3.10495219e-02 3.13623848e-02\n",
      " 1.40310321e+00 4.82320215e-01 1.30341830e+00 5.18290217e-01\n",
      " 6.40603229e+00 3.92111359e+00 5.10926063e+00 4.51148621e+00\n",
      " 9.88964652e-01 1.37385365e-01 8.30503000e-01 1.91555301e-01\n",
      " 2.80394928e-01 9.94751760e-02 1.81121506e-01 6.66495486e-01\n",
      " 1.89956837e-01 2.05531523e-01 5.97896658e-02 5.50342748e-02\n",
      " 2.36357247e-02 6.32036536e-03]\n"
     ]
    }
   ],
   "source": [
    "# Get Information Matrix and Standard Errors\n",
    "\n",
    "im, se = mixcont.get_info_mat()\n",
    "\n",
    "print(\"Standard Errors: \", se)"
   ]
  },
  {
   "cell_type": "code",
   "execution_count": 17,
   "id": "7af271ba",
   "metadata": {},
   "outputs": [
    {
     "name": "stdout",
     "output_type": "stream",
     "text": [
      "AIC:  560.7321403506121\n",
      "BIC:  747.3915285845799\n",
      "ICL: 734.1910133723659\n"
     ]
    }
   ],
   "source": [
    "# Get AIC, BIC, ICL\n",
    "\n",
    "print(\"AIC: \", mixcont.aic())\n",
    "print(\"BIC: \", mixcont.bic())\n",
    "print(\"ICL:\", mixcont.icl())"
   ]
  },
  {
   "cell_type": "code",
   "execution_count": 18,
   "id": "a2c52b40",
   "metadata": {},
   "outputs": [
    {
     "data": {
      "text/plain": [
       "{'accuracy': 0.8733333333333333,\n",
       " 'precision': 0.9082125603864734,\n",
       " 'recall': 0.8733333333333333,\n",
       " 'f_score': 0.8685894110730711}"
      ]
     },
     "execution_count": 18,
     "metadata": {},
     "output_type": "execute_result"
    }
   ],
   "source": [
    "# Check classification performance\n",
    "\n",
    "clustering_metrics(iris.target, mixcont.predict())"
   ]
  },
  {
   "cell_type": "code",
   "execution_count": 19,
   "id": "25eef6b8",
   "metadata": {},
   "outputs": [
    {
     "name": "stdout",
     "output_type": "stream",
     "text": [
      "Loglikelihood: -227.88800449485655 Relative Difference: 0.27822480339705635\n",
      "Loglikelihood: -226.77122004400988 Relative Difference: 0.004900584624110269\n",
      "Loglikelihood: -226.25897662828078 Relative Difference: 0.002258855491581738\n",
      "Loglikelihood: -225.7014754646111 Relative Difference: 0.0024639957803115095\n",
      "Loglikelihood: -224.96305463222768 Relative Difference: 0.0032716703816993544\n",
      "Loglikelihood: -223.99874523420294 Relative Difference: 0.004286523400925557\n",
      "Loglikelihood: -222.95976778375166 Relative Difference: 0.004638318171670902\n",
      "Loglikelihood: -222.13645261155483 Relative Difference: 0.003692662494138227\n",
      "Loglikelihood: -221.6154304711476 Relative Difference: 0.002345504910526054\n",
      "Loglikelihood: -221.30814970276526 Relative Difference: 0.0013865495183663773\n",
      "Loglikelihood: -221.13535814165192 Relative Difference: 0.0007807736016292922\n",
      "Loglikelihood: -221.04231525428432 Relative Difference: 0.0004207508385339353\n",
      "Loglikelihood: -220.99300302279335 Relative Difference: 0.00022308955384512898\n",
      "Loglikelihood: -220.96673832201594 Relative Difference: 0.00011884856270627965\n",
      "Loglikelihood: -220.95254034937045 Relative Difference: 6.425389066837667e-05\n",
      "Mixtures of Skew-Slash Fitting Done Successfully.\n"
     ]
    }
   ],
   "source": [
    "# Fit Skew Slash Mixtures\n",
    "\n",
    "mixslash = SkewSlashMix(3, print_log_likelihood= True)\n",
    "mixslash.fit(df)\n"
   ]
  },
  {
   "cell_type": "code",
   "execution_count": 20,
   "id": "4a5e1781",
   "metadata": {},
   "outputs": [
    {
     "name": "stdout",
     "output_type": "stream",
     "text": [
      "pi:  [0.45207312 0.33328644 0.21464044]\n",
      "alpha:  [(array([6.09992711, 2.85452218, 4.57183   , 1.47373956]), array([[0.24239574, 0.09689146, 0.18461037, 0.04504087],\n",
      "       [0.09689146, 0.08737795, 0.087461  , 0.02864628],\n",
      "       [0.18461037, 0.087461  , 0.26977147, 0.1126019 ],\n",
      "       [0.04504087, 0.02864628, 0.1126019 , 0.07613863]]), array([-1.06705577, -0.92501624, -0.99736397,  0.76453854]), 3.147053504860746), (array([4.89897607, 3.31298087, 1.4141877 , 0.20755204]), array([[0.11788139, 0.10517345, 0.02678872, 0.02102841],\n",
      "       [0.10517345, 0.13480012, 0.02652746, 0.02205406],\n",
      "       [0.02678872, 0.02652746, 0.02650317, 0.0102881 ],\n",
      "       [0.02102841, 0.02205406, 0.0102881 , 0.01233894]]), array([0.91405547, 1.03935014, 0.87680635, 1.00140776]), 3.147053504860746), (array([6.69620626, 3.0083619 , 5.64228379, 2.11317213]), array([[ 0.27126357,  0.05047911,  0.21377179, -0.00399614],\n",
      "       [ 0.05047911,  0.07278915,  0.03674056,  0.0208707 ],\n",
      "       [ 0.21377179,  0.03674056,  0.2163175 , -0.00417246],\n",
      "       [-0.00399614,  0.0208707 , -0.00417246,  0.05852347]]), array([ 1.16002666,  1.1054686 ,  1.04611082, -0.84744825]), 3.147053504860746)]\n"
     ]
    }
   ],
   "source": [
    "# Get the fitted parapeters\n",
    "\n",
    "print(\"pi: \", mixslash.get_params()[0])\n",
    "print(\"alpha: \", mixslash.get_params()[1])"
   ]
  },
  {
   "cell_type": "code",
   "execution_count": 21,
   "id": "29e42c10",
   "metadata": {},
   "outputs": [
    {
     "name": "stdout",
     "output_type": "stream",
     "text": [
      "Standard Errors:  [0.23627509 0.16641132 0.26730651 0.17440303 1.24924238 1.45685365\n",
      " 1.05517239 0.93749814 0.1441962  0.07779227 0.08685903 0.0553551\n",
      " 0.08787414 0.06300853 0.04171216 0.09420136 0.05491512 0.03219541\n",
      " 0.2056453  0.23633383 0.08938319 0.06303159 1.32903623 1.26998576\n",
      " 1.10199849 1.29608182 0.10788458 0.09980923 0.04623179 0.04172877\n",
      " 0.11346272 0.04432842 0.0311421  0.04351236 0.02710381 0.02772957\n",
      " 1.11132314 0.36686765 1.01925941 0.43740651 5.43011779 2.95113517\n",
      " 4.30466164 3.84281588 0.78160582 0.11853099 0.64062062 0.15391959\n",
      " 0.19422438 0.08118998 0.14881978 0.53085737 0.15537585 0.1612682\n",
      " 0.05715141 0.05204568 1.46167318]\n"
     ]
    }
   ],
   "source": [
    "# Get Information Matrix and Standard Errors\n",
    "\n",
    "im, se = mixslash.get_info_mat()\n",
    "\n",
    "print(\"Standard Errors: \", se)"
   ]
  },
  {
   "cell_type": "code",
   "execution_count": 22,
   "id": "636d623c",
   "metadata": {},
   "outputs": [
    {
     "name": "stdout",
     "output_type": "stream",
     "text": [
      "AIC:  559.9050806987409\n",
      "BIC:  737.53256305042\n",
      "ICL: 724.742344342934\n"
     ]
    }
   ],
   "source": [
    "# Get AIC, BIC, ICL\n",
    "\n",
    "print(\"AIC: \", mixslash.aic())\n",
    "print(\"BIC: \", mixslash.bic())\n",
    "print(\"ICL:\", mixslash.icl())"
   ]
  },
  {
   "cell_type": "code",
   "execution_count": 23,
   "id": "8e7d226f",
   "metadata": {},
   "outputs": [
    {
     "data": {
      "text/plain": [
       "{'accuracy': 0.8733333333333333,\n",
       " 'precision': 0.9082125603864734,\n",
       " 'recall': 0.8733333333333333,\n",
       " 'f_score': 0.8685894110730711}"
      ]
     },
     "execution_count": 23,
     "metadata": {},
     "output_type": "execute_result"
    }
   ],
   "source": [
    "# Check classification performance\n",
    "\n",
    "clustering_metrics(iris.target, mixslash.predict())"
   ]
  },
  {
   "cell_type": "code",
   "execution_count": 24,
   "id": "cd1e507f",
   "metadata": {},
   "outputs": [
    {
     "name": "stdout",
     "output_type": "stream",
     "text": [
      "Loglikelihood: -194.1410146425647 Relative Difference: 0.14081779756766247\n",
      "Loglikelihood: -192.43651270254452 Relative Difference: 0.008779710681734913\n",
      "Loglikelihood: -191.3609474946315 Relative Difference: 0.005589195069106073\n",
      "Loglikelihood: -190.32450095665712 Relative Difference: 0.005416186278046347\n",
      "Loglikelihood: -189.324823865285 Relative Difference: 0.005252487653178078\n",
      "Loglikelihood: -188.37838771463896 Relative Difference: 0.004999007163051569\n",
      "Loglikelihood: -187.46875407747282 Relative Difference: 0.004828757949367724\n",
      "Loglikelihood: -186.57351960247675 Relative Difference: 0.004775379659407726\n",
      "Loglikelihood: -185.69128445891684 Relative Difference: 0.004728619288737471\n",
      "Loglikelihood: -184.84638240713852 Relative Difference: 0.004550036121728963\n",
      "Loglikelihood: -184.08713516845518 Relative Difference: 0.004107449812087978\n",
      "Loglikelihood: -183.47158200503708 Relative Difference: 0.003343814128319266\n",
      "Loglikelihood: -183.0224020045212 Relative Difference: 0.0024482265624304407\n",
      "Loglikelihood: -182.70408148302525 Relative Difference: 0.0017392434915595705\n",
      "Loglikelihood: -182.46291989367865 Relative Difference: 0.0013199573178063317\n",
      "Loglikelihood: -182.26527712728472 Relative Difference: 0.0010831941443724174\n",
      "Loglikelihood: -182.0992743188834 Relative Difference: 0.0009107758264092643\n",
      "Loglikelihood: -181.96362065787906 Relative Difference: 0.0007449434464345559\n",
      "Loglikelihood: -181.85853533943302 Relative Difference: 0.0005775072955028794\n",
      "Loglikelihood: -181.78152293024078 Relative Difference: 0.0004234742628301408\n",
      "Loglikelihood: -181.72747487511714 Relative Difference: 0.0002973242508502104\n",
      "Loglikelihood: -181.6905654125408 Relative Difference: 0.00020310337004193104\n",
      "Loglikelihood: -181.66571309485732 Relative Difference: 0.0001367837544400789\n",
      "Loglikelihood: -181.64907261348938 Relative Difference: 9.159946081435089e-05\n",
      "Mixtures of Slash Fitting Done Successfully!\n"
     ]
    }
   ],
   "source": [
    "# Fit Slash Mixture\n",
    "\n",
    "mixslash_s = SlashMix(3, print_log_likelihood= True)\n",
    "mixslash_s.fit(df)\n"
   ]
  },
  {
   "cell_type": "code",
   "execution_count": 25,
   "id": "8a4d58d7",
   "metadata": {},
   "outputs": [
    {
     "name": "stdout",
     "output_type": "stream",
     "text": [
      "pi:  [0.30727927 0.33333275 0.35938798]\n",
      "alpha:  [(array([5.92705509, 2.78132132, 4.22402292, 1.30603221]), array([[0.19995338, 0.06924627, 0.13476132, 0.04060702],\n",
      "       [0.06924627, 0.06757332, 0.06573167, 0.03117718],\n",
      "       [0.13476132, 0.06573167, 0.14855664, 0.04684403],\n",
      "       [0.04060702, 0.03117718, 0.04684403, 0.02472132]]), array([0., 0., 0., 0.]), 3.1558427263348885), (array([5.00385854, 3.42443687, 1.4622182 , 0.24296652]), array([[0.08546546, 0.06741067, 0.01130197, 0.00730442],\n",
      "       [0.06741067, 0.09634972, 0.00799852, 0.00679343],\n",
      "       [0.01130197, 0.00799852, 0.01979306, 0.00393783],\n",
      "       [0.00730442, 0.00679343, 0.00393783, 0.00736907]]), array([0., 0., 0., 0.]), 3.1558427263348885), (array([6.56627311, 2.96386306, 5.50457109, 2.00433099]), array([[0.24849365, 0.0533217 , 0.19347536, 0.03579552],\n",
      "       [0.0533217 , 0.06902412, 0.04754368, 0.03554159],\n",
      "       [0.19347536, 0.04754368, 0.20924094, 0.04282415],\n",
      "       [0.03579552, 0.03554159, 0.04282415, 0.05645693]]), array([0., 0., 0., 0.]), 3.1558427263348885)]\n"
     ]
    }
   ],
   "source": [
    "# Get the fitted parapeters\n",
    "\n",
    "print(\"pi: \", mixslash_s.get_params()[0])\n",
    "print(\"alpha: \", mixslash_s.get_params()[1])"
   ]
  },
  {
   "cell_type": "code",
   "execution_count": 26,
   "id": "d5a2a337",
   "metadata": {},
   "outputs": [
    {
     "name": "stdout",
     "output_type": "stream",
     "text": [
      "Standard Errors:  [ 3.90159255  1.97287893  2.73386421  1.33355247 10.06360766  8.56616172\n",
      "  6.52432186 10.18468963  0.06005939  0.02883764  0.04096423  0.01955587\n",
      "  0.02876942  0.04629233  0.01535349  0.05733154  0.02084443  0.01890961\n",
      "  1.76310137  1.32345455  0.55483754  0.36266956  6.76117228  3.66738833\n",
      "  3.91303508  3.94236478  0.03952762  0.03358231  0.0169795   0.01371935\n",
      "  0.03254878  0.02274772  0.01124028  0.01753064  0.01073324  0.01341879\n",
      "  2.06444396  0.9995062   1.81817267  1.1659513   4.49795274  3.89253604\n",
      "  4.02674722  5.45371558  0.05022149  0.03031251  0.05080381  0.02866726\n",
      "  0.03393022  0.02653488  0.02324205  0.06256705  0.03390323  0.03536866\n",
      "  0.04585612  0.04234514  1.16225003]\n"
     ]
    }
   ],
   "source": [
    "# Get Information Matrix and Standard Errors\n",
    "\n",
    "im, se = mixslash_s.get_info_mat()\n",
    "\n",
    "print(\"Standard Errors: \", se)"
   ]
  },
  {
   "cell_type": "code",
   "execution_count": 27,
   "id": "72c6e48d",
   "metadata": {},
   "outputs": [
    {
     "name": "stdout",
     "output_type": "stream",
     "text": [
      "AIC:  457.29814522697876\n",
      "BIC:  598.7980040495028\n",
      "ICL: 592.7306309165803\n"
     ]
    }
   ],
   "source": [
    "# Get AIC, BIC, ICL\n",
    "\n",
    "print(\"AIC: \", mixslash_s.aic())\n",
    "print(\"BIC: \", mixslash_s.bic())\n",
    "print(\"ICL:\", mixslash_s.icl())"
   ]
  },
  {
   "cell_type": "code",
   "execution_count": 28,
   "id": "50fa893c",
   "metadata": {},
   "outputs": [
    {
     "data": {
      "text/plain": [
       "{'accuracy': 0.9733333333333334,\n",
       " 'precision': 0.9753086419753086,\n",
       " 'recall': 0.9733333333333334,\n",
       " 'f_score': 0.9732905982905984}"
      ]
     },
     "execution_count": 28,
     "metadata": {},
     "output_type": "execute_result"
    }
   ],
   "source": [
    "# Check classification performance\n",
    "\n",
    "clustering_metrics(iris.target, mixslash_s.predict())"
   ]
  },
  {
   "cell_type": "code",
   "execution_count": 29,
   "id": "65f0a92b",
   "metadata": {},
   "outputs": [
    {
     "name": "stdout",
     "output_type": "stream",
     "text": [
      "Loglikelihood: -224.6010666446387 Relative Difference: 0.33073031095066546\n",
      "Loglikelihood: -223.01000012017468 Relative Difference: 0.0070839669117929585\n",
      "Loglikelihood: -222.56284348909293 Relative Difference: 0.0020050967707313204\n",
      "Loglikelihood: -222.16796271772597 Relative Difference: 0.0017742439177018713\n",
      "Loglikelihood: -221.63173520130704 Relative Difference: 0.002413613150426342\n",
      "Loglikelihood: -220.93579017505337 Relative Difference: 0.0031400964560492394\n",
      "Loglikelihood: -220.2109363789503 Relative Difference: 0.00328083465122946\n",
      "Loglikelihood: -219.6131831937683 Relative Difference: 0.002714457306304515\n",
      "Loglikelihood: -219.17520326670402 Relative Difference: 0.0019943243875202134\n",
      "Loglikelihood: -218.87560138166583 Relative Difference: 0.0013669515555261714\n",
      "Loglikelihood: -218.68043302766233 Relative Difference: 0.0008916862033570066\n",
      "Loglikelihood: -218.55699802289297 Relative Difference: 0.0005644538153706158\n",
      "Loglikelihood: -218.4802633069121 Relative Difference: 0.0003510970441350901\n",
      "Loglikelihood: -218.43305233530378 Relative Difference: 0.0002160880387716679\n",
      "Loglikelihood: -218.40420498267196 Relative Difference: 0.00013206496143059243\n",
      "Loglikelihood: -218.38667194576476 Relative Difference: 8.027792738050453e-05\n",
      "Loglikelihood: -218.3760672309706 Relative Difference: 4.85593497976978e-05\n",
      "Loglikelihood: -218.3696854988719 Relative Difference: 2.922358745453984e-05\n",
      "Loglikelihood: -218.36586733660846 Relative Difference: 1.748485489048375e-05\n",
      "Loglikelihood: -218.3635990467827 Relative Difference: 1.0387565847311068e-05\n",
      "Loglikelihood: -218.36226352724606 Relative Difference: 6.1160355593541965e-06\n",
      "Loglikelihood: -218.36148636385042 Relative Difference: 3.559055411341807e-06\n",
      "Loglikelihood: -218.36104120420313 Relative Difference: 2.038636275551795e-06\n",
      "Loglikelihood: -218.36079177617466 Relative Difference: 1.1422734893203334e-06\n",
      "Mixtures of Skew-Normal Fitting Done Successfully\n"
     ]
    }
   ],
   "source": [
    "# Fit Skew Normal Mix\n",
    "\n",
    "mixskewnorm = SkewNormalMix(3, print_log_likelihood= True, tol=1e-6, max_iter=25)\n",
    "mixskewnorm.fit(df)\n"
   ]
  },
  {
   "cell_type": "code",
   "execution_count": 30,
   "id": "d37945eb",
   "metadata": {},
   "outputs": [
    {
     "name": "stdout",
     "output_type": "stream",
     "text": [
      "pi:  [0.41237592 0.33333315 0.25429093]\n",
      "alpha:  [(array([6.13113045, 2.87350362, 4.74106566, 1.63696004]), array([[0.32228343, 0.1300499 , 0.33292366, 0.16104074],\n",
      "       [0.1300499 , 0.12687247, 0.17367345, 0.10144882],\n",
      "       [0.33292366, 0.17367345, 0.55456661, 0.30353055],\n",
      "       [0.16104074, 0.10144882, 0.30353055, 0.21083452]]), array([-1.01785558, -0.9223184 , -1.06017202,  1.0150258 ])), (array([4.88605492, 3.30540986, 1.40779035, 0.21020647]), array([[0.16578172, 0.14375098, 0.03687543, 0.02539386],\n",
      "       [0.14375098, 0.1900041 , 0.03351217, 0.02528564],\n",
      "       [0.03687543, 0.03351217, 0.03943966, 0.01320247],\n",
      "       [0.02539386, 0.02528564, 0.01320247, 0.01623138]]), array([0.83072017, 0.96346771, 0.83844568, 1.02916416])), (array([6.56802724, 2.95863642, 5.21657975, 1.77551025]), array([[0.42961765, 0.08427036, 0.44594919, 0.13536202],\n",
      "       [0.08427036, 0.09508653, 0.06301019, 0.03368494],\n",
      "       [0.44594919, 0.06301019, 0.67919362, 0.22259021],\n",
      "       [0.13536202, 0.03368494, 0.22259021, 0.12596401]]), array([ 1.11289214,  1.2918774 ,  1.10190152, -0.91264735]))]\n"
     ]
    }
   ],
   "source": [
    "# Get the fitted parapeters\n",
    "\n",
    "print(\"pi: \", mixskewnorm.get_params()[0])\n",
    "print(\"alpha: \", mixskewnorm.get_params()[1])"
   ]
  },
  {
   "cell_type": "code",
   "execution_count": 31,
   "id": "4a5d4d41",
   "metadata": {},
   "outputs": [
    {
     "name": "stdout",
     "output_type": "stream",
     "text": [
      "Standard Errors:  [0.40261369 0.27427175 0.40225399 0.30287137 2.47631292 2.40629509\n",
      " 1.52596937 1.495283   0.16594434 0.07823245 0.1209466  0.06799609\n",
      " 0.10601968 0.0885077  0.05801314 0.16151496 0.10352022 0.06452125\n",
      " 0.25604093 0.33083232 0.10751411 0.073603   1.44723233 1.53124272\n",
      " 1.18984762 1.41626668 0.13926322 0.13382394 0.06196912 0.05405928\n",
      " 0.15699622 0.06163141 0.0336635  0.05624567 0.03471724 0.03371049\n",
      " 0.95987235 0.34405289 1.44476222 0.61773595 4.89953112 2.31310293\n",
      " 8.09232666 4.92248322 0.58440137 0.13709994 0.61145774 0.17202332\n",
      " 0.20441423 0.16959727 0.17256968 0.67218507 0.18354475 0.13876376\n",
      " 0.15391666 0.05491846]\n"
     ]
    }
   ],
   "source": [
    "# Get Information Matrix and Standard Errors\n",
    "\n",
    "im, se = mixskewnorm.get_info_mat()\n",
    "\n",
    "print(\"Standard Errors: \", se)"
   ]
  },
  {
   "cell_type": "code",
   "execution_count": 32,
   "id": "8c3324c4",
   "metadata": {},
   "outputs": [
    {
     "name": "stdout",
     "output_type": "stream",
     "text": [
      "AIC:  554.7215835523493\n",
      "BIC:  732.3490659040284\n",
      "ICL: 712.60281433542\n"
     ]
    }
   ],
   "source": [
    "# Get AIC, BIC, ICL\n",
    "\n",
    "print(\"AIC: \", mixskewnorm.aic())\n",
    "print(\"BIC: \", mixskewnorm.bic())\n",
    "print(\"ICL:\", mixskewnorm.icl())"
   ]
  },
  {
   "cell_type": "code",
   "execution_count": 33,
   "id": "fed487ba",
   "metadata": {},
   "outputs": [
    {
     "data": {
      "text/plain": [
       "{'accuracy': 0.6866666666666666,\n",
       " 'precision': 0.6881166881166881,\n",
       " 'recall': 0.6866666666666666,\n",
       " 'f_score': 0.681280303800902}"
      ]
     },
     "execution_count": 33,
     "metadata": {},
     "output_type": "execute_result"
    }
   ],
   "source": [
    "# Check classification performance\n",
    "\n",
    "clustering_metrics(iris.target, mixskewnorm.predict())"
   ]
  },
  {
   "cell_type": "code",
   "execution_count": null,
   "id": "9b0ea93f",
   "metadata": {},
   "outputs": [],
   "source": []
  }
 ],
 "metadata": {
  "kernelspec": {
   "display_name": "Python 3 (ipykernel)",
   "language": "python",
   "name": "python3"
  },
  "language_info": {
   "codemirror_mode": {
    "name": "ipython",
    "version": 3
   },
   "file_extension": ".py",
   "mimetype": "text/x-python",
   "name": "python",
   "nbconvert_exporter": "python",
   "pygments_lexer": "ipython3",
   "version": "3.8.10"
  }
 },
 "nbformat": 4,
 "nbformat_minor": 5
}
